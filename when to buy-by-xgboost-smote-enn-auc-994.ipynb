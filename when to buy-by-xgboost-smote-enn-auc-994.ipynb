{
 "cells": [
  {
   "cell_type": "markdown",
   "metadata": {},
   "source": [
    "# When to buy Prediction  with XGBoost and SMOTE-ENN"
   ]
  },
  {
   "cell_type": "markdown",
   "metadata": {},
   "source": [
    "\n",
    "- Let's use major supervised learning algorithm and compare the results.\n",
    "  - Logistic regression\n",
    "  - KNN\n",
    "  - SVM\n",
    "  - Decision Tree\n",
    "  - Random Forest\n",
    "  - AdaBoost\n",
    "  - XGBoost\n",
    "- The data is imbalanced, so apply rebalancing methods and compare their results  with those of baseline models.\n",
    "  - Baseline models: Imbalanced data\n",
    "  - SMOTE\n",
    "  - SMOTE-ENN\n",
    "- Performance measure\n",
    "  - Accuracy\n",
    "  - Recall\n",
    "  - F1 score\n",
    "  - AUC score"
   ]
  },
  {
   "cell_type": "code",
   "execution_count": 1,
   "metadata": {},
   "outputs": [],
   "source": [
    "\n",
    "# import standard libs\n",
    "from IPython.display import display\n",
    "from IPython.core.debugger import set_trace as bp\n",
    "from pathlib import PurePath, Path\n",
    "import sys\n",
    "import time\n",
    "import datetime as dt\n",
    "import multiprocessing as mp\n",
    "from datetime import datetime\n",
    "from collections import OrderedDict as od\n",
    "import re\n",
    "import os\n",
    "import json\n",
    "os.environ['THEANO_FLAGS'] = 'device=cpu,floatX=float32'\n",
    "\n",
    "# import python scientific stack\n",
    "import pandas as pd\n",
    "import pandas_datareader.data as web\n",
    "from pandas import Timestamp\n",
    "pd.set_option('display.max_rows', 100)\n",
    "from dask import dataframe as dd\n",
    "from dask.diagnostics import ProgressBar\n",
    "pbar = ProgressBar()\n",
    "pbar.register()\n",
    "import numpy as np\n",
    "import scipy.stats as stats\n",
    "import statsmodels.api as sm\n",
    "from numba import jit\n",
    "import math\n",
    "\n",
    "from sklearn.utils import resample\n",
    "from sklearn.utils import shuffle\n",
    "from sklearn.tree import DecisionTreeClassifier\n",
    "from sklearn.ensemble import RandomForestClassifier, RandomForestRegressor, BaggingClassifier\n",
    "from sklearn.model_selection import train_test_split\n",
    "from sklearn.metrics import classification_report\n",
    "from sklearn.metrics import confusion_matrix\n",
    "from sklearn.metrics import accuracy_score\n",
    "from sklearn.metrics import roc_curve, auc\n",
    "\n",
    "from itertools import cycle\n",
    "from scipy import interp\n",
    "\n",
    "# import visual tools\n",
    "import matplotlib as mpl\n",
    "import matplotlib.pyplot as plt\n",
    "import matplotlib.gridspec as gridspec\n",
    "%matplotlib inline\n",
    "import seaborn as sns\n",
    "import plotly\n",
    "import plotly.graph_objects as go\n",
    "from plotly.subplots import make_subplots\n",
    "\n",
    "#plt.style.use('seaborn-talk')\n",
    "#plt.style.use('bmh')\n",
    "\n",
    "#plt.rcParams['font.family'] = 'DejaVu Sans Mono'\n",
    "#plt.rcParams['font.size'] = 9.5\n",
    "plt.rcParams['font.weight'] = 'medium'\n",
    "#plt.rcParams['figure.figsize'] = 10,7\n",
    "blue, green, red, purple, gold, teal = sns.color_palette('colorblind', 6)\n",
    "\n",
    "# import util libs\n",
    "import pyarrow as pa\n",
    "import pyarrow.parquet as pq\n",
    "from tqdm import tqdm, tqdm_notebook\n",
    "import warnings\n",
    "warnings.filterwarnings(\"ignore\")\n",
    "#import missingno as msno\n",
    "#from google.colab import drive\n",
    "#import pymc3 as pm\n",
    "#from theano import shared, theano as tt"
   ]
  },
  {
   "cell_type": "code",
   "execution_count": 12,
   "metadata": {},
   "outputs": [],
   "source": [
    "# Lớp này chứa các hàm tĩnh để hỗ trợ đa xử lý\n",
    "class MultiProcessing:\n",
    "\n",
    "    # Hàm khởi tạo trống\n",
    "    def __init__(self):\n",
    "        pass\n",
    "\n",
    "    @staticmethod\n",
    "    def lin_parts(num_atoms, num_threads):\n",
    "        \"\"\"\n",
    "        Hàm này phân chia danh sách các atom thành các tập con (phân tử) có kích thước bằng nhau.\n",
    "        Một atom là một tập hợp các tác vụ không thể chia nhỏ hơn.\n",
    "        \"\"\"\n",
    "        # Phân chia các atom bằng một vòng lặp duy nhất\n",
    "        parts = np.linspace(0, num_atoms, min(num_threads, num_atoms) + 1)\n",
    "        parts = np.ceil(parts).astype(int)\n",
    "        return parts\n",
    "\n",
    "    @staticmethod\n",
    "    def nested_parts(num_atoms, num_threads, upper_triangle=False):\n",
    "        \"\"\"\n",
    "        Hàm này cho phép song song hóa các vòng lặp lồng nhau.\n",
    "        \"\"\"\n",
    "        # Phân chia các atom với một vòng lặp bên trong\n",
    "        parts = []\n",
    "        num_threads_ = min(num_threads, num_atoms)\n",
    "        for num in range(num_threads_):\n",
    "            part = 1 + 4 * (parts[-1] ** 2 + parts[-1] + num_atoms * (num_atoms + 1.) / num_threads_)\n",
    "            part = (-1 + part ** .5) / 2.\n",
    "            parts.append(part)\n",
    "        parts = np.round(parts).astype(int)\n",
    "        if upper_triangle:  # các hàng đầu tiên nặng nhất\n",
    "            parts = np.cumsum(np.diff(parts)[::-1])\n",
    "            parts = np.append(np.array([0]), parts)\n",
    "        return parts\n",
    "\n",
    "    @staticmethod\n",
    "    def mp_pandas_obj(func, pd_obj, num_threads=24, mp_batches=1, lin_mols=True, **kargs):\n",
    "        \"\"\"\n",
    "        :param func: (string) hàm cần được song song hóa\n",
    "        :param pd_obj: (vector) Phần tử 0 là tên của đối số dùng để truyền phân tử;\n",
    "                                Phần tử 1 là danh sách các atom cần được nhóm thành một phân tử\n",
    "        :param num_threads: (int) số lượng luồng\n",
    "        :param mp_batches: (int) số lượng batch\n",
    "        :param lin_mols: (bool) Cho biết phương thức nên sử dụng phân vùng tuyến tính hay lồng nhau\n",
    "        :param kargs: (var args) các đối số bổ sung\n",
    "        :return: (data frame) kết quả\n",
    "        \"\"\"\n",
    "  \n",
    "    \n",
    "        # Kiểm tra nếu sử dụng phân vùng tuyến tính\n",
    "        if lin_mols:\n",
    "            # Sử dụng phân vùng tuyến tính\n",
    "            parts = MultiProcessing.lin_parts(len(pd_obj[1]), num_threads * mp_batches)\n",
    "        else:\n",
    "            # Sử dụng phân vùng lồng nhau\n",
    "            parts = MultiProcessing.nested_parts(len(pd_obj[1]), num_threads * mp_batches)\n",
    "        \n",
    "        # Khởi tạo danh sách công việc\n",
    "        jobs = []\n",
    "        # Tạo các công việc dựa trên phân vùng\n",
    "        for i in range(1, len(parts)):\n",
    "            job = {pd_obj[0]: pd_obj[1][parts[i - 1]:parts[i]], 'func': func}\n",
    "            job.update(kargs)\n",
    "            jobs.append(job)\n",
    "        \n",
    "        # Xử lý công việc dựa trên số lượng luồng\n",
    "        if num_threads == 1:\n",
    "            # Xử lý tuần tự nếu chỉ có 1 luồng\n",
    "            out = MultiProcessing.process_jobs_(jobs)\n",
    "        else:\n",
    "            # Xử lý song song nếu có nhiều luồng\n",
    "            out = MultiProcessing.process_jobs(jobs, num_threads=num_threads)\n",
    "        \n",
    "        # Xử lý kết quả đầu ra\n",
    "        if isinstance(out[0], pd.DataFrame):\n",
    "            df0 = pd.DataFrame()\n",
    "        elif isinstance(out[0], pd.Series):\n",
    "            df0 = pd.Series()\n",
    "        else:\n",
    "            return out\n",
    "        \n",
    "        # Gộp kết quả\n",
    "        for i in out:\n",
    "            df0 = pd.concat([df0, i])\n",
    "            #df0 = df0.append(i)\n",
    "        df0 = df0.sort_index()\n",
    "        return df0\n",
    "    \n",
    "    @staticmethod\n",
    "    def process_jobs_(jobs):\n",
    "        \"\"\" Chạy các công việc tuần tự, để debug \"\"\"\n",
    "        out = []\n",
    "        for job in jobs:\n",
    "            out_ = MultiProcessing.expand_call(job)\n",
    "            out.append(out_)\n",
    "        return out\n",
    "    \n",
    "    @staticmethod\n",
    "    def expand_call(kargs):\n",
    "        \"\"\" Mở rộng các đối số của hàm callback, kargs['func'] \"\"\"\n",
    "        func = kargs['func']\n",
    "        del kargs['func']\n",
    "        out = func(**kargs)\n",
    "        return out\n",
    "    \n",
    "    @staticmethod\n",
    "    def report_progress(job_num, num_jobs, time0, task):\n",
    "        # Báo cáo tiến độ khi các công việc bất đồng bộ hoàn thành\n",
    "        msg = [float(job_num) / num_jobs, (time.time() - time0)/60.]\n",
    "        msg.append(msg[1] * (1/msg[0] - 1))\n",
    "        time_stamp = str(dt.datetime.fromtimestamp(time.time()))\n",
    "        msg = time_stamp + ' ' + str(round(msg[0]*100, 2)) + '% '+task+' done after ' + \\\n",
    "            str(round(msg[1], 2)) + ' minutes. Remaining ' + str(round(msg[2], 2)) + ' minutes.'\n",
    "        if job_num < num_jobs:\n",
    "            sys.stderr.write(msg+'\\r')\n",
    "        else:\n",
    "            sys.stderr.write(msg+'\\n')\n",
    "        return\n",
    "    \n",
    "    @staticmethod\n",
    "    def process_jobs(jobs, task=None, num_threads=24):\n",
    "        \"\"\" Chạy song song. jobs phải chứa một callback 'func' cho expand_call\"\"\"\n",
    "        if task is None:\n",
    "            task = jobs[0]['func'].__name__\n",
    "        # Tạo pool với số lượng luồng chỉ định\n",
    "        pool = mp.Pool(processes=num_threads)\n",
    "        # Sử dụng imap_unordered để xử lý công việc bất đồng bộ\n",
    "        outputs = pool.imap_unordered(MultiProcessing.expand_call, jobs)\n",
    "        out = []\n",
    "        time0 = time.time()\n",
    "        # Xử lý đầu ra bất đồng bộ, báo cáo tiến độ\n",
    "        for i, out_ in enumerate(outputs, 1):\n",
    "            out.append(out_)\n",
    "            MultiProcessing.report_progress(i, len(jobs), time0, task)\n",
    "        pool.close()\n",
    "        pool.join()  # Cần thiết để ngăn rò rỉ bộ nhớ\n",
    "        return out"
   ]
  },
  {
   "cell_type": "code",
   "execution_count": 13,
   "metadata": {
    "_cell_guid": "b1076dfc-b9ad-4769-8c92-a6c4dae69d19",
    "_uuid": "8f2839f25d086af736a60e9eeb907d3b93b6e0e5"
   },
   "outputs": [],
   "source": [
    "# This Python 3 environment comes with many helpful analytics libraries installed\n",
    "# It is defined by the kaggle/python Docker image: https://github.com/kaggle/docker-python\n",
    "# For example, here's several helpful packages to load\n",
    "\n",
    "import numpy as np # linear algebra\n",
    "import pandas as pd # data processing, CSV file I/O (e.g. pd.read_csv)\n",
    "\n",
    "# Input data files are available in the read-only \"../input/\" directory\n",
    "# For example, running this (by clicking run or pressing Shift+Enter) will list all files under the input directory\n",
    "\n",
    "import os\n",
    "for dirname, _, filenames in os.walk('/kaggle/input'):\n",
    "    for filename in filenames:\n",
    "        print(os.path.join(dirname, filename))\n",
    "\n",
    "# You can write up to 20GB to the current directory (/kaggle/working/) that gets preserved as output when you create a version using \"Save & Run All\" \n",
    "# You can also write temporary files to /kaggle/temp/, but they won't be saved outside of the current session"
   ]
  },
  {
   "cell_type": "markdown",
   "metadata": {},
   "source": [
    "# 1. Load and Explore Dataset"
   ]
  },
  {
   "cell_type": "code",
   "execution_count": 14,
   "metadata": {},
   "outputs": [],
   "source": [
    "# Import the necessary packages\n",
    "import pandas as pd\n",
    "import numpy as np\n",
    "import matplotlib.pyplot as plt\n",
    "import seaborn as sns\n",
    "\n",
    "from sklearn.preprocessing import LabelEncoder\n",
    "from sklearn.preprocessing import OneHotEncoder\n",
    "from sklearn.compose import ColumnTransformer\n",
    "\n",
    "from sklearn.model_selection import train_test_split\n",
    "from sklearn.preprocessing import StandardScaler\n",
    "from sklearn.linear_model import LogisticRegression\n",
    "from sklearn.neighbors import KNeighborsClassifier\n",
    "from sklearn.svm import SVC\n",
    "from sklearn.tree import DecisionTreeClassifier\n",
    "from sklearn.ensemble import RandomForestClassifier\n",
    "from sklearn.ensemble import AdaBoostClassifier\n",
    "from xgboost import XGBClassifier\n",
    "from sklearn.metrics import roc_auc_score, roc_curve\n",
    "from sklearn.metrics import f1_score, precision_score, recall_score\n",
    "from sklearn.metrics import make_scorer\n",
    "from sklearn.model_selection import GridSearchCV\n",
    "\n",
    "from sklearn.metrics import confusion_matrix,accuracy_score,classification_report\n",
    "\n",
    "from sklearn.metrics import f1_score\n",
    "from sklearn.metrics import precision_score,recall_score\n",
    "\n",
    "pd.set_option('display.max_rows', None)\n",
    "pd.set_option('display.max_columns', None)\n",
    "sns.set(color_codes=True)\n",
    "%matplotlib inline\n",
    "%config InlineBackend.figure_formats = {'png', 'retina'}\n",
    "\n",
    "# Suppressing Warnings\n",
    "import warnings\n",
    "warnings.filterwarnings('ignore')\n",
    "\n",
    "#from sklearn.metrics import roc_auc_score,roc_curve,scorer"
   ]
  },
  {
   "cell_type": "code",
   "execution_count": 15,
   "metadata": {},
   "outputs": [],
   "source": [
    "def get_daily_vol(close, lookback=100):\n",
    "    \"\"\"\n",
    "    :param close: (data frame) Giá đóng cửa\n",
    "    :param lookback: (int) khoảng thời gian nhìn lại để tính biến động\n",
    "    :return: (series) giá trị biến động hàng ngày\n",
    "    \"\"\"\n",
    "    print('Calculating daily volatility for dynamic thresholds')\n",
    "    \n",
    "    # Tìm vị trí của các ngày trước đó trong index\n",
    "    df0 = close.index.searchsorted(close.index - pd.Timedelta(days=1))\n",
    "    \n",
    " \n",
    "    df0 = df0[df0 > 0]\n",
    "    \n",
    "    df0 = (pd.Series(close.index[df0 - 1], index=close.index[close.shape[0] - df0.shape[0]:], name='value'))\n",
    "    df0\n",
    "    \n",
    "    # Chuyển đổi thành DataFrame và đặt tên cột là 'value'\n",
    "    df1 = df0.to_frame()\n",
    "    close_today=close.loc[df0.index]\n",
    "        \n",
    "    close_yesterday=data.loc[df1['value']]['close']\n",
    "    close_yesterday\n",
    "    \n",
    "    # Thêm các cột close_today và close_yesterday vào DataFrame df1\n",
    "    df1['close_today'] = close_today.values\n",
    "    df1['close_yesterday'] = close_yesterday.values\n",
    "    \n",
    "    # Tính tỷ lệ phần trăm thay đổi giá hàng ngày (daily returns)\n",
    "    daily_returns = (df1['close_today'] / df1['close_yesterday'] - 1).rename(\"return\")\n",
    "    daily_vol = daily_returns.ewm(span=lookback).std()\n",
    "    \n",
    "\n",
    "    \n",
    "    return daily_vol"
   ]
  },
  {
   "cell_type": "code",
   "execution_count": 16,
   "metadata": {},
   "outputs": [],
   "source": [
    "def get_t_events(raw_price, threshold):\n",
    "    \"\"\"\n",
    "    :param raw_price: (series) chuỗi giá đóng cửa.\n",
    "    :param threshold: (float) khi giá trị tuyệt đối của sự thay đổi lớn hơn ngưỡng này, \n",
    "    hàm sẽ ghi nhận nó như một sự kiện.\n",
    "    :return: (datetime index vector) vector các mốc thời gian khi sự kiện xảy ra. Được sử dụng sau này để lấy mẫu.\n",
    "    \"\"\"\n",
    "    print('Applying Symmetric CUSUM filter.')\n",
    "    \n",
    "    # Khởi tạo danh sách để lưu các sự kiện\n",
    "    t_events = []\n",
    "    \n",
    "    # Khởi tạo biến tích lũy cho giá trị dương và âm\n",
    "    s_pos = 0\n",
    "    s_neg = 0\n",
    "    \n",
    "    # Tính logarit của tỷ lệ thay đổi giá\n",
    "    diff = np.log(raw_price).diff().dropna()\n",
    "    \n",
    "    # Duyệt qua từng mốc thời gian trong chuỗi giá\n",
    "    for i in tqdm(diff.index[1:]):\n",
    "        # Cập nhật giá trị tích lũy dương và âm\n",
    "        pos = float(s_pos + diff.loc[i])\n",
    "        neg = float(s_neg + diff.loc[i])\n",
    "        \n",
    "        # Giới hạn giá trị tích lũy dương không nhỏ hơn 0\n",
    "        s_pos = max(0.0, pos)\n",
    "        # Giới hạn giá trị tích lũy âm không lớn hơn 0\n",
    "        s_neg = min(0.0, neg)\n",
    "        \n",
    "        # Kiểm tra nếu giá trị tích lũy âm vượt ngưỡng\n",
    "        if s_neg < -threshold:\n",
    "            s_neg = 0  # Reset giá trị tích lũy âm\n",
    "            t_events.append(i)  # Ghi nhận sự kiện\n",
    "        # Kiểm tra nếu giá trị tích lũy dương vượt ngưỡng\n",
    "        elif s_pos > threshold:\n",
    "            s_pos = 0  # Reset giá trị tích lũy dương\n",
    "            t_events.append(i)  # Ghi nhận sự kiện\n",
    "    \n",
    "    # Chuyển đổi danh sách sự kiện thành DatetimeIndex\n",
    "    event_timestamps = pd.DatetimeIndex(t_events)\n",
    "    \n",
    "    return event_timestamps"
   ]
  },
  {
   "cell_type": "code",
   "execution_count": 17,
   "metadata": {},
   "outputs": [],
   "source": [
    "def bbands(close_prices, window, no_of_stdev):\n",
    "    # Hàm tính toán Bollinger Bands\n",
    "\n",
    "    # Tính trung bình động theo phương pháp EMA (Exponential Moving Average)\n",
    "    rolling_mean = close_prices.ewm(span=window).mean()\n",
    "    \n",
    "    # Tính độ lệch chuẩn động theo phương pháp EMA\n",
    "    rolling_std = close_prices.ewm(span=window).std()\n",
    "    \n",
    "    # Tính dải trên của Bollinger Bands\n",
    "    # Bằng trung bình động cộng với (độ lệch chuẩn * số lần độ lệch chuẩn)\n",
    "    upper_band = rolling_mean + (rolling_std * no_of_stdev)\n",
    "    \n",
    "    # Tính dải dưới của Bollinger Bands\n",
    "    # Bằng trung bình động trừ đi (độ lệch chuẩn * số lần độ lệch chuẩn)\n",
    "    lower_band = rolling_mean - (rolling_std * no_of_stdev)\n",
    "    \n",
    "    # Trả về trung bình động, dải trên và dải dưới\n",
    "    return rolling_mean, upper_band, lower_band"
   ]
  },
  {
   "cell_type": "code",
   "execution_count": 18,
   "metadata": {},
   "outputs": [],
   "source": [
    "def add_vertical_barrier(t_events, close, num_days=1):\n",
    "    \"\"\"\n",
    "    :param t_events: (series) chuỗi các sự kiện (từ bộ lọc CUSUM đối xứng)\n",
    "    :param close: (series) giá đóng cửa\n",
    "    :param num_days: (int) số ngày tối đa mà một giao dịch có thể hoạt động\n",
    "    :return: (series) mốc thời gian của các rào cản dọc\n",
    "    \"\"\"\n",
    "    # Tìm vị trí của các ngày kết thúc (num_days sau mỗi sự kiện) trong index của close\n",
    "    t1 = close.index.searchsorted(t_events + pd.Timedelta(days=num_days))\n",
    "    \n",
    "    # Loại bỏ các vị trí vượt quá độ dài của chuỗi close\n",
    "    t1 = t1[t1 < close.shape[0]]\n",
    "    \n",
    "    # Tạo Series mới với index là t_events và giá trị là ngày kết thúc tương ứng\n",
    "    # NaN sẽ xuất hiện ở cuối nếu có sự kiện không có ngày kết thúc tương ứng\n",
    "    t1 = pd.Series(close.index[t1], index=t_events[:t1.shape[0]])  # NaNs at end\n",
    "    \n",
    "    return t1"
   ]
  },
  {
   "cell_type": "code",
   "execution_count": 19,
   "metadata": {},
   "outputs": [],
   "source": [
    "def apply_pt_sl_on_t1(close, events, pt_sl, molecule):\n",
    "    \"\"\"\n",
    "    :param close: (series) giá đóng cửa\n",
    "    :param events: (series) các chỉ số biểu thị \"sự kiện\"\n",
    "    :param pt_sl: (array) phần tử 0 chỉ mức chốt lời; phần tử 1 là mức dừng lỗ\n",
    "    :param molecule: (một mảng) tập các giá trị chỉ mục datetime để xử lý\n",
    "    :return: (dataframe) mốc thời gian tại đó mỗi rào cản được chạm đến\n",
    "    \"\"\"\n",
    "    # Áp dụng dừng lỗ/chốt lời, nếu nó xảy ra trước t1 (kết thúc sự kiện)\n",
    "    events_ = events.loc[molecule]\n",
    "    \n",
    "    # Tạo bản sao sâu của cột 't1' từ events_\n",
    "    out = events_[['t1']].copy(deep=True)\n",
    "    \n",
    "    # Xác định mức chốt lời\n",
    "    if pt_sl[0] > 0:\n",
    "        pt = pt_sl[0] * events_['trgt']\n",
    "    else:\n",
    "        pt = pd.Series(index=events.index)  # NaNs\n",
    "    \n",
    "    # Xác định mức dừng lỗ\n",
    "    if pt_sl[1] > 0:\n",
    "        sl = -pt_sl[1] * events_['trgt']\n",
    "    else:\n",
    "        sl = pd.Series(index=events.index)  # NaNs\n",
    "    \n",
    "    # Lặp qua từng sự kiện\n",
    "    for loc, t1 in events_['t1'].fillna(close.index[-1]).items():\n",
    "        df0 = close[loc:t1]  # Giá theo đường đi\n",
    "        df0 = (df0 / close[loc] - 1) * events_.at[loc, 'side']  # Lợi nhuận theo đường đi\n",
    "        out.loc[loc, 'sl'] = df0[df0 < sl[loc]].index.min()  # Thời điểm dừng lỗ sớm nhất\n",
    "        out.loc[loc, 'pt'] = df0[df0 > pt[loc]].index.min()  # Thời điểm chốt lời sớm nhất\n",
    "    \n",
    "    return out"
   ]
  },
  {
   "cell_type": "code",
   "execution_count": 20,
   "metadata": {},
   "outputs": [],
   "source": [
    "def get_events(close, t_events, pt_sl, target, min_ret, num_threads,\n",
    "              vertical_barrier_times=False, side=None):\n",
    "    \"\"\"\n",
    "    :param close: (series) Giá đóng cửa\n",
    "    :param t_events: (series) các sự kiện t. Đây là các mốc thời gian sẽ tạo ra mỗi rào cản ba chiều.\n",
    "    :param pt_sl: (mảng 2 phần tử) phần tử 0 chỉ mức chốt lời; phần tử 1 là mức dừng lỗ.\n",
    "                  Một số thực không âm xác định độ rộng của hai rào cản.\n",
    "                  Giá trị 0 có nghĩa là rào cản ngang tương ứng sẽ bị vô hiệu hóa.\n",
    "    :param target: (series) các giá trị được sử dụng (kết hợp với pt_sl) để xác định độ rộng của rào cản.\n",
    "    :param min_ret: (float) Lợi nhuận mục tiêu tối thiểu cần thiết để chạy tìm kiếm rào cản ba chiều.\n",
    "    :param num_threads: (int) Số lượng luồng được sử dụng đồng thời bởi hàm.\n",
    "    :param vertical_barrier_times: (series) Series pandas với các mốc thời gian của các rào cản dọc.\n",
    "    :param side: (series) Phía của cược (long/short) được quyết định bởi mô hình chính\n",
    "    :return: (data frame) của các sự kiện\n",
    "            -events.index là thời gian bắt đầu sự kiện\n",
    "            -events['t1'] là thời gian kết thúc sự kiện\n",
    "            -events['trgt'] là mục tiêu của sự kiện\n",
    "            -events['side'] (tùy chọn) ngụ ý phía vị thế của thuật toán\n",
    "    \"\"\"\n",
    "    # 1) Lấy mục tiêu\n",
    "    target = target.loc[target.index.intersection(t_events)]\n",
    "    target = target[target > min_ret]  # Áp dụng min_ret\n",
    "    target.head()\n",
    "    # 2) Lấy rào cản dọc (thời gian nắm giữ tối đa)\n",
    "    if vertical_barrier_times is False:\n",
    "        vertical_barrier_times = pd.Series(pd.NaT, index=t_events)\n",
    "\n",
    "    # 3) Tạo đối tượng sự kiện, áp dụng dừng lỗ trên rào cản dọc\n",
    "    if side is None:\n",
    "        side_ = pd.Series(1., index=target.index)\n",
    "        pt_sl_ = [pt_sl[0], pt_sl[0]]\n",
    "    else:\n",
    "        side_ = side.loc[target.index]\n",
    "        pt_sl_ = pt_sl[:2]\n",
    "\n",
    "    # Tạo DataFrame events\n",
    "    events = pd.concat({'t1': vertical_barrier_times, 'trgt': target, 'side': side_},\n",
    "                        axis=1)\n",
    "    events = events.dropna(subset=['trgt'])\n",
    "    \n",
    "    # Áp dụng Rào cản Ba chiều\n",
    "    df0 = MultiProcessing.mp_pandas_obj(func=apply_pt_sl_on_t1,\n",
    "                                                 pd_obj=('molecule', events.index),\n",
    "                                                 num_threads=num_threads,\n",
    "                                                 close=close,\n",
    "                                                 events=events,\n",
    "                                                 pt_sl=pt_sl_)\n",
    "\n",
    "    # Cập nhật thời gian kết thúc sự kiện\n",
    "    events = events.dropna(subset=['t1'])\n",
    "    #events['t1'] = df0.dropna(how='all').min(axis=1) \n",
    "    #events['t1'] = df0.dropna(how='all').apply(lambda x: x.min(), axis=1)\n",
    "    #events['t1'] = df0.dropna(how='all').astype(int64).min(axis=1)\n",
    "    #events['t1'] = df0.dropna(how='all').astype(np.int64).min(axis=1)\n",
    "   # events['t1'] = df0.dropna(how='all').apply(lambda x: x.min().astype('int64'), axis=1)\n",
    "    #events['t1'] = df0.dropna(how='all').apply(lambda x: x.min().astype(np.int64) if not x.isnull().all() else pd.NaT, axis=1)\n",
    "\n",
    "    # Loại bỏ cột 'side' nếu không được cung cấp\n",
    "    if side is None:\n",
    "        events = events.drop('side', axis=1)\n",
    "\n",
    "    return events"
   ]
  },
  {
   "cell_type": "code",
   "execution_count": 21,
   "metadata": {},
   "outputs": [],
   "source": [
    "def get_bins(triple_barrier_events, close):\n",
    "    \"\"\"\n",
    "    :param triple_barrier_events: (data frame)\n",
    "                -events.index là thời gian bắt đầu sự kiện\n",
    "                -events['t1'] là thời gian kết thúc sự kiện\n",
    "                -events['trgt'] là mục tiêu của sự kiện\n",
    "                -events['side'] (tùy chọn) ngụ ý phía vị thế của thuật toán\n",
    "                Trường hợp 1: ('side' không có trong events): bin trong (-1,1) <- gán nhãn bởi hành động giá\n",
    "                Trường hợp 2: ('side' có trong events): bin trong (0,1) <- gán nhãn bởi lợi nhuận (meta-labeling)\n",
    "    :param close: (series) giá đóng cửa\n",
    "    :return: (data frame) của các sự kiện đã được gán nhãn meta\n",
    "    \"\"\"\n",
    "    events_ = triple_barrier_events.dropna(subset=['t1'])  # Loại bỏ các sự kiện không có thời gian kết thúc\n",
    "    price = events_.copy()  # Sao chép triple_barrier_events\n",
    "\n",
    "  \n",
    "    final_price = data.loc[events_['t1']]['close']  \n",
    "# Thêm cột close_values vào price từ triple_barrier_events\n",
    "    price['final_price'] = final_price.values\n",
    "    initial_price=data.loc[events_.index]['close']\n",
    "    # In ra một số dòng đầu của dataframe price để kiểm tra\n",
    "    price['initial_price'] = initial_price.values\n",
    "\n",
    "\n",
    "# 2) Tạo DataFrame đầu ra\n",
    "    out_df = pd.DataFrame(index=events_.index)\n",
    "    # Cần tính log returns, nếu không kết quả sẽ bị lệch cho các vị thế short\n",
    "    #out_df['ret'] = np.log(prices.loc[events_['t1'].values].values) - np.log(prices.loc[events_.index])\n",
    "    out_df['ret']=np.log( price['final_price'])-np.log( price['initial_price'])\n",
    "    out_df['trgt'] = events_['trgt']\n",
    "   \n",
    "     # Loại bỏ các sự kiện không có return\n",
    "    \n",
    "    # Meta labeling: Các sự kiện đúng sẽ có lợi nhuận dương\n",
    "    if 'side' in events_:\n",
    "        out_df['ret'] = out_df['ret'] * events_['side']  # meta-labeling\n",
    "    \n",
    "    # Thêm code: gán nhãn 0 khi rào cản dọc được chạm đến\n",
    "    out_df = barrier_touched(out_df)\n",
    "    \n",
    "    # Meta labeling: gán nhãn 0 cho các sự kiện không chính xác\n",
    "    if 'side' in events_:\n",
    "        out_df.loc[out_df['ret'] <= 0, 'bin'] = 0\n",
    "    \n",
    "    # Chuyển đổi log returns trở lại thành returns thông thường\n",
    "    out_df['ret'] = np.exp(out_df['ret']) - 1\n",
    "    \n",
    "    \n",
    "    # Thêm 'side' vào output. Điều này hữu ích khi cần fit một mô hình meta label\n",
    "    tb_cols = triple_barrier_events.columns\n",
    "    if 'side' in tb_cols:\n",
    "        out_df['side'] = triple_barrier_events['side']\n",
    "    out_df=out_df.dropna(subset=['ret']) \n",
    "    return out_df"
   ]
  },
  {
   "cell_type": "code",
   "execution_count": 22,
   "metadata": {},
   "outputs": [],
   "source": [
    "def barrier_touched(out_df):\n",
    "    \"\"\"\n",
    "    :param out_df: (DataFrame) chứa lợi nhuận và mục tiêu\n",
    "    :return: (DataFrame) chứa lợi nhuận, mục tiêu và nhãn\n",
    "    \"\"\"\n",
    "    # Khởi tạo list để lưu trữ kết quả\n",
    "    store = []\n",
    "    \n",
    "    # Lặp qua từng hàng trong DataFrame\n",
    "    for i in np.arange(len(out_df)):\n",
    "        # Lấy thời gian của hàng hiện tại\n",
    "        date_time = out_df.index[i]\n",
    "        \n",
    "        # Lấy giá trị lợi nhuận của hàng hiện tại\n",
    "        ret = out_df.loc[date_time, 'ret']\n",
    "        \n",
    "        # Lấy giá trị mục tiêu của hàng hiện tại\n",
    "        target = out_df.loc[date_time, 'trgt']\n",
    "        \n",
    "        # Kiểm tra nếu rào cản trên được chạm đến\n",
    "        if ret > 0.0 and ret > target:\n",
    "            # Rào cản trên được chạm đến\n",
    "            store.append(1)\n",
    "        # Kiểm tra nếu rào cản dưới được chạm đến\n",
    "        elif ret < 0.0 and ret < -target:\n",
    "            # Rào cản dưới được chạm đến\n",
    "            store.append(-1)\n",
    "        else:\n",
    "            # Rào cản dọc được chạm đến (hoặc không rào cản nào được chạm đến)\n",
    "            store.append(0)\n",
    "    \n",
    "    # Thêm cột 'bin' vào DataFrame với các giá trị đã lưu trữ\n",
    "    out_df['bin'] = store\n",
    "    \n",
    "    # Trả về DataFrame đã được cập nhật\n",
    "    return out_df"
   ]
  },
  {
   "cell_type": "markdown",
   "metadata": {},
   "source": [
    "# 2. Data preprocessing"
   ]
  },
  {
   "cell_type": "code",
   "execution_count": 23,
   "metadata": {},
   "outputs": [
    {
     "name": "stdout",
     "output_type": "stream",
     "text": [
      "datetime64[ns]\n",
      "<class 'pandas.core.frame.DataFrame'>\n",
      "DatetimeIndex: 84591 entries, 2019-08-05 00:00:00 to 2022-04-29 23:45:00\n",
      "Data columns (total 1 columns):\n",
      " #   Column  Non-Null Count  Dtype\n",
      "---  ------  --------------  -----\n",
      " 0   close   84591 non-null  int64\n",
      "dtypes: int64(1)\n",
      "memory usage: 1.3 MB\n"
     ]
    }
   ],
   "source": [
    "import pandas as pd\n",
    "\n",
    "data=pd.read_csv('D:/Trading code/Wdata/15m/BTCUSD_Candlestick_15_M_ASK_05.08.2019-29.04.2022.csv')\n",
    "data.columns = data.columns.str.lower()\n",
    "#data = data.drop(columns=['open', 'high','low', 'adj close', 'volume'])\n",
    "data = data[data['volume'] != 0]\n",
    "data = data.drop(columns=['open', 'high','low',  'volume'])\n",
    "data['datetime'] = pd.to_datetime(data['datetime'], format=\"%d.%m.%Y %H:%M:%S.%f\")\n",
    "\n",
    "\n",
    "#data['datetime'] = pd.to_datetime(data['datetime'])\n",
    "print(data['datetime'].dtype)\n",
    "data = data.set_index('datetime')\n",
    "#data = data.set_index('datetime').drop_duplicates()\n",
    "data.info()\n",
    "\n"
   ]
  },
  {
   "cell_type": "code",
   "execution_count": 24,
   "metadata": {},
   "outputs": [
    {
     "name": "stdout",
     "output_type": "stream",
     "text": [
      "side\n",
      " 1.0    3471\n",
      "-1.0    3371\n",
      "Name: count, dtype: int64\n"
     ]
    }
   ],
   "source": [
    "# compute bands\n",
    "window = 20\n",
    "data['avg'], data['upper'], data['lower'] = bbands(data['close'],window, no_of_stdev=1.5)\n",
    "\n",
    "# compute sides\n",
    "data['side'] = np.nan\n",
    "long_signals = (data['close'] <= data['lower'])\n",
    "short_signals = (data['close'] >= data['upper'])\n",
    "data.loc[long_signals, 'side'] = 1\n",
    "data.loc[short_signals, 'side'] = -1\n",
    "\n",
    "print(data.side.value_counts())\n",
    "\n",
    "# Remove Look ahead biase by lagging the signal\n",
    "data['side'] = data['side'].shift(1)\n",
    "\n",
    "# Drop the NaN values from our data set\n",
    "#data.dropna(axis=0, how='any', inplace=True)\n"
   ]
  },
  {
   "cell_type": "code",
   "execution_count": 25,
   "metadata": {},
   "outputs": [
    {
     "name": "stdout",
     "output_type": "stream",
     "text": [
      "Calculating daily volatility for dynamic thresholds\n",
      "Applying Symmetric CUSUM filter.\n"
     ]
    },
    {
     "name": "stderr",
     "output_type": "stream",
     "text": [
      "100%|█████████████████████████████████████████████████████████████████████████| 84589/84589 [00:02<00:00, 29097.42it/s]\n"
     ]
    }
   ],
   "source": [
    "close = data['close']\n",
    "\n",
    "# determining timestamps of first touch\n",
    "# determining daily volatility using the last 50 days\n",
    "# creating our event triggers using the CUSUM filter\n",
    "daily_vol = get_daily_vol(close=close, lookback=50)\n",
    "cusum_events = get_t_events(close, threshold=daily_vol.mean()*0.1)\n",
    "\n",
    "# adding vertical barriers with a half day expiration window\n",
    "vertical_barriers = add_vertical_barrier(t_events=cusum_events,\n",
    "                                         close=close, num_days=0.5)"
   ]
  },
  {
   "cell_type": "code",
   "execution_count": 26,
   "metadata": {},
   "outputs": [],
   "source": [
    "\n",
    "\n",
    "pt_sl = [1, 2] # setting profit-take and stop-loss at 1% and 2%\n",
    "min_ret = 0.0005 # setting a minimum return of 0.05%\n",
    "\n",
    "triple_barrier_events = get_events(close=close,\n",
    "                                  t_events=cusum_events,\n",
    "                                  pt_sl=pt_sl,\n",
    "                                  target=daily_vol,\n",
    "                                  min_ret=min_ret,\n",
    "                                  num_threads=1,\n",
    "                                  vertical_barrier_times=vertical_barriers,\n",
    "                                  side=data['side'])"
   ]
  },
  {
   "cell_type": "code",
   "execution_count": 27,
   "metadata": {},
   "outputs": [
    {
     "data": {
      "text/plain": [
       "side\n",
       " 1.0    2153\n",
       "-1.0    2015\n",
       "Name: count, dtype: int64"
      ]
     },
     "execution_count": 27,
     "metadata": {},
     "output_type": "execute_result"
    }
   ],
   "source": [
    "labels = get_bins(triple_barrier_events, data['close'])\n",
    "labels.side.value_counts()"
   ]
  },
  {
   "cell_type": "code",
   "execution_count": 28,
   "metadata": {},
   "outputs": [
    {
     "name": "stdout",
     "output_type": "stream",
     "text": [
      "              precision    recall  f1-score   support\n",
      "\n",
      "           0       0.00      0.00      0.00      3187\n",
      "           1       0.24      1.00      0.38       981\n",
      "\n",
      "    accuracy                           0.24      4168\n",
      "   macro avg       0.12      0.50      0.19      4168\n",
      "weighted avg       0.06      0.24      0.09      4168\n",
      "\n",
      "Confusion Matrix\n",
      "[[   0 3187]\n",
      " [   0  981]]\n",
      "\n",
      "Accuracy\n",
      "0.23536468330134358\n"
     ]
    }
   ],
   "source": [
    "# creating dataframe of only bin labels\n",
    "primary_forecast = pd.DataFrame(labels['bin'])\n",
    "#bin is actual - the correct ones\n",
    "# setting predicted column to 1\n",
    "primary_forecast['pred'] = 1\n",
    "primary_forecast.columns = ['actual', 'pred']\n",
    "\n",
    "# Performance Metrics\n",
    "actual = primary_forecast['actual']\n",
    "pred = primary_forecast['pred']\n",
    "print(classification_report(y_true=actual, y_pred=pred))\n",
    "\n",
    "print(\"Confusion Matrix\")\n",
    "print(confusion_matrix(actual, pred))\n",
    "\n",
    "print('')\n",
    "print(\"Accuracy\")\n",
    "print(accuracy_score(actual, pred))"
   ]
  },
  {
   "cell_type": "markdown",
   "metadata": {},
   "source": [
    "## 3. Prediction with Imbalanced Data: Baseline models"
   ]
  },
  {
   "cell_type": "code",
   "execution_count": 29,
   "metadata": {},
   "outputs": [],
   "source": [
    "# Get features at event dates\n",
    "X = data.loc[labels.index, :]\n",
    "y = labels['bin']\n",
    "\n",
    "# Split data\n",
    "X_train, X_test, y_train, y_test = train_test_split(X, y, test_size=0.2, shuffle=False)\n"
   ]
  },
  {
   "cell_type": "markdown",
   "metadata": {},
   "source": [
    "## 3.1.Logistic Regression with Imbalanced Data"
   ]
  },
  {
   "cell_type": "code",
   "execution_count": 30,
   "metadata": {},
   "outputs": [
    {
     "name": "stdout",
     "output_type": "stream",
     "text": [
      "Logistic Regression: Imbalanced Data\n",
      " - Accuracy :  0.766\n",
      " - Precision:  0.000\n",
      " - Recall   :  0.000\n",
      " - F1 score :  nan\n",
      " - AUC score:  0.470\n",
      "Confusion Matrix\n",
      "[[639   0]\n",
      " [195   0]]\n"
     ]
    }
   ],
   "source": [
    "# Initiate the model\n",
    "base_lm = LogisticRegression()\n",
    "# Fit the model\n",
    "base_lm_model = base_lm.fit(X_train, y_train.ravel())\n",
    "# Make Predictions\n",
    "base_lm_pred=base_lm_model.predict(X_test)\n",
    "\n",
    "# Calculate Accuracy, Precision, Recall, and F1 score\n",
    "base_lm_accuracy = accuracy_score(y_test, base_lm_pred)\n",
    "base_lm_precision = precision_score(y_test, base_lm_pred)\n",
    "base_lm_recall = recall_score(y_test, base_lm_pred)\n",
    "base_lm_f1 = 2 * (base_lm_precision * base_lm_recall) / (base_lm_precision + base_lm_recall)\n",
    "\n",
    "# Calculate AUC score\n",
    "base_lm_probs = base_lm.predict_proba(X_test)\n",
    "base_lm_probs = base_lm_probs[:,1]\n",
    "base_lm_auc = roc_auc_score(y_test, base_lm_probs)\n",
    "\n",
    "# Display the metrics\n",
    "print(\"Logistic Regression: Imbalanced Data\")\n",
    "print(\" - Accuracy : \",'{:.3f}'.format(base_lm_accuracy))\n",
    "print(\" - Precision: \",'{:.3f}'.format(base_lm_precision))\n",
    "print(\" - Recall   : \",'{:.3f}'.format(base_lm_recall))\n",
    "print(\" - F1 score : \",'{:.3f}'.format(base_lm_f1))\n",
    "print(\" - AUC score: \",'{:.3f}'.format(base_lm_auc))\n",
    "\n",
    "# Display the confusion matrix\n",
    "print(\"Confusion Matrix\")\n",
    "print(confusion_matrix(y_test,base_lm_pred))"
   ]
  },
  {
   "cell_type": "markdown",
   "metadata": {},
   "source": [
    "## 3.2. KNN with Imbalanced Data"
   ]
  },
  {
   "cell_type": "code",
   "execution_count": 31,
   "metadata": {},
   "outputs": [
    {
     "name": "stdout",
     "output_type": "stream",
     "text": [
      "KNN Classifier: Imbalanced Data\n",
      " - Accuracy :  0.670\n",
      " - Precision:  0.273\n",
      " - Recall   :  0.246\n",
      " - F1 score :  0.259\n",
      " - AUC score:  0.511\n",
      "Confusion Matrix\n",
      "[[511 128]\n",
      " [147  48]]\n"
     ]
    }
   ],
   "source": [
    "# Initiate the model\n",
    "base_knn = KNeighborsClassifier()\n",
    "# Fit the model\n",
    "base_knn_model = base_knn.fit(X_train, y_train.ravel())\n",
    "# Make Predictions\n",
    "base_knn_pred=base_knn_model.predict(X_test)\n",
    "\n",
    "# Calculate Accuracy, Precision, Recall, and F1 score\n",
    "base_knn_accuracy = accuracy_score(y_test, base_knn_pred)\n",
    "base_knn_precision = precision_score(y_test, base_knn_pred)\n",
    "base_knn_recall = recall_score(y_test, base_knn_pred)\n",
    "base_knn_f1 = 2 * (base_knn_precision * base_knn_recall) / (base_knn_precision + base_knn_recall)\n",
    "\n",
    "# Calculate AUC score\n",
    "base_knn_probs = base_knn.predict_proba(X_test)\n",
    "base_knn_probs = base_knn_probs[:,1]\n",
    "base_knn_auc = roc_auc_score(y_test, base_knn_probs)\n",
    "\n",
    "# Display the metrics\n",
    "print(\"KNN Classifier: Imbalanced Data\")\n",
    "print(\" - Accuracy : \",'{:.3f}'.format(base_knn_accuracy))\n",
    "print(\" - Precision: \",'{:.3f}'.format(base_knn_precision))\n",
    "print(\" - Recall   : \",'{:.3f}'.format(base_knn_recall))\n",
    "print(\" - F1 score : \",'{:.3f}'.format(base_knn_f1))\n",
    "print(\" - AUC score: \",'{:.3f}'.format(base_knn_auc))\n",
    "\n",
    "# Display the confusion matrix\n",
    "print(\"Confusion Matrix\")\n",
    "print(confusion_matrix(y_test,base_knn_pred))"
   ]
  },
  {
   "cell_type": "markdown",
   "metadata": {},
   "source": [
    "### 3.3. SVM with Imbalanced Data"
   ]
  },
  {
   "cell_type": "code",
   "execution_count": 32,
   "metadata": {},
   "outputs": [
    {
     "name": "stdout",
     "output_type": "stream",
     "text": [
      "SVM Classifier: Imbalanced Data\n",
      " - Accuracy :  0.766\n",
      " - Precision:  0.000\n",
      " - Recall   :  0.000\n",
      " - F1 score :  nan\n",
      " - AUC score:  0.503\n",
      "Confusion Matrix\n",
      "[[639   0]\n",
      " [195   0]]\n"
     ]
    }
   ],
   "source": [
    "# Initiate the model\n",
    "base_svc = SVC(kernel='rbf',probability=True)\n",
    "# Fit the model\n",
    "base_svc_model = base_svc.fit(X_train, y_train.ravel())\n",
    "# Make Predictions\n",
    "base_svc_pred = base_svc_model.predict(X_test)\n",
    "\n",
    "# Calculate Accuracy, Precision, Recall, and F1 score\n",
    "base_svc_accuracy = accuracy_score(y_test, base_svc_pred)\n",
    "base_svc_precision = precision_score(y_test, base_svc_pred)\n",
    "base_svc_recall = recall_score(y_test, base_svc_pred)\n",
    "base_svc_f1 = 2 * (base_svc_precision * base_svc_recall) / (base_svc_precision + base_svc_recall)\n",
    "\n",
    "# Calculate AUC score\n",
    "base_svc_probs = base_svc.predict_proba(X_test)\n",
    "base_svc_probs = base_svc_probs[:,1]\n",
    "base_svc_auc = roc_auc_score(y_test, base_svc_probs)\n",
    "\n",
    "# Display the metrics\n",
    "print(\"SVM Classifier: Imbalanced Data\")\n",
    "print(\" - Accuracy : \",'{:.3f}'.format(base_svc_accuracy))\n",
    "print(\" - Precision: \",'{:.3f}'.format(base_svc_precision))\n",
    "print(\" - Recall   : \",'{:.3f}'.format(base_svc_recall))\n",
    "print(\" - F1 score : \",'{:.3f}'.format(base_svc_f1))\n",
    "print(\" - AUC score: \",'{:.3f}'.format(base_svc_auc))\n",
    "\n",
    "# Display the confusion matrix\n",
    "print(\"Confusion Matrix\")\n",
    "print(confusion_matrix(y_test,base_svc_pred))"
   ]
  },
  {
   "cell_type": "markdown",
   "metadata": {},
   "source": [
    "### 3.4. Decision Tree with Imbalanced Data"
   ]
  },
  {
   "cell_type": "code",
   "execution_count": 33,
   "metadata": {},
   "outputs": [
    {
     "name": "stdout",
     "output_type": "stream",
     "text": [
      "Decision Tree Classifier: Imbalanced Data\n",
      " - Accuracy :  0.620\n",
      " - Precision:  0.250\n",
      " - Recall   :  0.313\n",
      " - F1 score :  0.278\n",
      " - AUC score:  0.513\n",
      "Confusion Matrix\n",
      "[[456 183]\n",
      " [134  61]]\n"
     ]
    }
   ],
   "source": [
    "# Initiate the model\n",
    "base_tree = DecisionTreeClassifier()\n",
    "# Fit the model\n",
    "base_tree_model = base_tree.fit(X_train, y_train.ravel())\n",
    "# Make Predictions\n",
    "base_tree_pred=base_tree_model.predict(X_test)\n",
    "\n",
    "# Calculate Accuracy, Precision, Recall, and F1 score\n",
    "base_tree_accuracy = accuracy_score(y_test, base_tree_pred)\n",
    "base_tree_precision = precision_score(y_test, base_tree_pred)\n",
    "base_tree_recall = recall_score(y_test, base_tree_pred)\n",
    "base_tree_f1 = 2 * (base_tree_precision * base_tree_recall) / (base_tree_precision + base_tree_recall)\n",
    "\n",
    "# Calculate AUC score\n",
    "base_tree_probs = base_tree.predict_proba(X_test)\n",
    "base_tree_probs = base_tree_probs[:,1]\n",
    "base_tree_auc = roc_auc_score(y_test, base_tree_probs)\n",
    "\n",
    "# Display the metrics\n",
    "print(\"Decision Tree Classifier: Imbalanced Data\")\n",
    "print(\" - Accuracy : \",'{:.3f}'.format(base_tree_accuracy))\n",
    "print(\" - Precision: \",'{:.3f}'.format(base_tree_precision))\n",
    "print(\" - Recall   : \",'{:.3f}'.format(base_tree_recall))\n",
    "print(\" - F1 score : \",'{:.3f}'.format(base_tree_f1))\n",
    "print(\" - AUC score: \",'{:.3f}'.format(base_tree_auc))\n",
    "\n",
    "# Display the confusion matrix\n",
    "print(\"Confusion Matrix\")\n",
    "print(confusion_matrix(y_test,base_tree_pred))"
   ]
  },
  {
   "cell_type": "markdown",
   "metadata": {},
   "source": [
    "### 3.5. Random Forest with Imbalanced Data"
   ]
  },
  {
   "cell_type": "code",
   "execution_count": 34,
   "metadata": {},
   "outputs": [
    {
     "name": "stdout",
     "output_type": "stream",
     "text": [
      "Random Forest Classifier: Imbalanced Data\n",
      " - Accuracy :  0.670\n",
      " - Precision:  0.270\n",
      " - Recall   :  0.241\n",
      " - F1 score :  0.255\n",
      " - AUC score:  0.525\n",
      "Confusion Matrix\n",
      "[[512 127]\n",
      " [148  47]]\n"
     ]
    }
   ],
   "source": [
    "# Initiate the model\n",
    "base_rfc = RandomForestClassifier()\n",
    "# Fit the model\n",
    "base_rfc_model = base_rfc.fit(X_train, y_train.ravel())\n",
    "# Make Predictions\n",
    "base_rfc_pred=base_rfc_model.predict(X_test)\n",
    "\n",
    "# Calculate Accuracy, Precision, Recall, and F1 score\n",
    "base_rfc_accuracy = accuracy_score(y_test, base_rfc_pred)\n",
    "base_rfc_precision = precision_score(y_test, base_rfc_pred)\n",
    "base_rfc_recall = recall_score(y_test, base_rfc_pred)\n",
    "base_rfc_f1 = 2 * (base_rfc_precision * base_rfc_recall) / (base_rfc_precision + base_rfc_recall)\n",
    "\n",
    "# Calculate AUC score\n",
    "base_rfc_probs = base_rfc.predict_proba(X_test)\n",
    "base_rfc_probs = base_rfc_probs[:,1]\n",
    "base_rfc_auc = roc_auc_score(y_test, base_rfc_probs)\n",
    "\n",
    "# Display the metrics\n",
    "print(\"Random Forest Classifier: Imbalanced Data\")\n",
    "print(\" - Accuracy : \",'{:.3f}'.format(base_rfc_accuracy))\n",
    "print(\" - Precision: \",'{:.3f}'.format(base_rfc_precision))\n",
    "print(\" - Recall   : \",'{:.3f}'.format(base_rfc_recall))\n",
    "print(\" - F1 score : \",'{:.3f}'.format(base_rfc_f1))\n",
    "print(\" - AUC score: \",'{:.3f}'.format(base_rfc_auc))\n",
    "\n",
    "# Display the confusion matrix\n",
    "print(\"Confusion Matrix\")\n",
    "print(confusion_matrix(y_test,base_rfc_pred))"
   ]
  },
  {
   "cell_type": "markdown",
   "metadata": {},
   "source": [
    "### 3.6. AdaBoost with Imbalanced Data"
   ]
  },
  {
   "cell_type": "code",
   "execution_count": 35,
   "metadata": {},
   "outputs": [
    {
     "name": "stdout",
     "output_type": "stream",
     "text": [
      "AdaBoost Classifier: Imbalanced Data\n",
      " - Accuracy :  0.748\n",
      " - Precision:  0.174\n",
      " - Recall   :  0.021\n",
      " - F1 score :  0.037\n",
      " - AUC score:  0.472\n",
      "Confusion Matrix\n",
      "[[620  19]\n",
      " [191   4]]\n"
     ]
    }
   ],
   "source": [
    "# Initiate the model\n",
    "base_adb = AdaBoostClassifier()\n",
    "# Fit the model\n",
    "base_adb_model = base_adb.fit(X_train, y_train.ravel())\n",
    "# Make Predictions\n",
    "base_adb_pred=base_adb_model.predict(X_test)\n",
    "\n",
    "# Calculate Accuracy, Precision, Recall, and F1 score\n",
    "base_adb_accuracy = accuracy_score(y_test, base_adb_pred)\n",
    "base_adb_precision = precision_score(y_test, base_adb_pred)\n",
    "base_adb_recall = recall_score(y_test, base_adb_pred)\n",
    "base_adb_f1 = 2 * (base_adb_precision * base_adb_recall) / (base_adb_precision + base_adb_recall)\n",
    "\n",
    "# Calculate AUC score\n",
    "base_adb_probs = base_adb.predict_proba(X_test)\n",
    "base_adb_probs = base_adb_probs[:,1]\n",
    "base_adb_auc = roc_auc_score(y_test, base_adb_probs)\n",
    "\n",
    "# Display the metrics\n",
    "print(\"AdaBoost Classifier: Imbalanced Data\")\n",
    "print(\" - Accuracy : \",'{:.3f}'.format(base_adb_accuracy))\n",
    "print(\" - Precision: \",'{:.3f}'.format(base_adb_precision))\n",
    "print(\" - Recall   : \",'{:.3f}'.format(base_adb_recall))\n",
    "print(\" - F1 score : \",'{:.3f}'.format(base_adb_f1))\n",
    "print(\" - AUC score: \",'{:.3f}'.format(base_adb_auc))\n",
    "\n",
    "# Display the confusion matrix\n",
    "print(\"Confusion Matrix\")\n",
    "print(confusion_matrix(y_test,base_adb_pred))"
   ]
  },
  {
   "cell_type": "markdown",
   "metadata": {},
   "source": [
    "### 3.7. XGBoost with Imbalance Data"
   ]
  },
  {
   "cell_type": "code",
   "execution_count": 36,
   "metadata": {},
   "outputs": [
    {
     "name": "stdout",
     "output_type": "stream",
     "text": [
      "XGBoost Classifier: Imbalanced Data\n",
      " - Accuracy :  0.705\n",
      " - Precision:  0.319\n",
      " - Recall   :  0.231\n",
      " - F1 score :  0.268\n",
      " - AUC score:  0.535\n",
      "Confusion Matrix\n",
      "[[543  96]\n",
      " [150  45]]\n"
     ]
    }
   ],
   "source": [
    "# Initiate the model\n",
    "base_xgb = XGBClassifier()\n",
    "# Fit the model\n",
    "base_xgb_model = base_xgb.fit(X_train, y_train.ravel())\n",
    "# Make Predictions\n",
    "base_xgb_pred = base_xgb_model.predict(X_test)\n",
    "\n",
    "# Calculate Accuracy, Precision, Recall, and F1 score\n",
    "base_xgb_accuracy = accuracy_score(y_test, base_xgb_pred)\n",
    "base_xgb_precision = precision_score(y_test, base_xgb_pred)\n",
    "base_xgb_recall = recall_score(y_test, base_xgb_pred)\n",
    "base_xgb_f1 = 2 * (base_xgb_precision * base_xgb_recall) / (base_xgb_precision + base_xgb_recall)\n",
    "\n",
    "# Calculate AUC score\n",
    "base_xgb_probs = base_xgb.predict_proba(X_test)\n",
    "base_xgb_probs = base_xgb_probs[:,1]\n",
    "base_xgb_auc = roc_auc_score(y_test, base_xgb_probs)\n",
    "\n",
    "# Display the metrics\n",
    "print(\"XGBoost Classifier: Imbalanced Data\")\n",
    "print(\" - Accuracy : \",'{:.3f}'.format(base_xgb_accuracy))\n",
    "print(\" - Precision: \",'{:.3f}'.format(base_xgb_precision))\n",
    "print(\" - Recall   : \",'{:.3f}'.format(base_xgb_recall))\n",
    "print(\" - F1 score : \",'{:.3f}'.format(base_xgb_f1))\n",
    "print(\" - AUC score: \",'{:.3f}'.format(base_xgb_auc))\n",
    "\n",
    "# Display the confusion matrix\n",
    "print(\"Confusion Matrix\")\n",
    "print(confusion_matrix(y_test,base_xgb_pred))"
   ]
  },
  {
   "cell_type": "markdown",
   "metadata": {},
   "source": [
    "## 4. Prediction with SMOTE"
   ]
  },
  {
   "cell_type": "markdown",
   "metadata": {},
   "source": [
    "## Perform SMOTE"
   ]
  },
  {
   "cell_type": "code",
   "execution_count": 59,
   "metadata": {},
   "outputs": [
    {
     "name": "stdout",
     "output_type": "stream",
     "text": [
      "bin\n",
      "0    2548\n",
      "1    2548\n",
      "Name: count, dtype: int64\n"
     ]
    }
   ],
   "source": [
    "# Since this is an imbalanced data, apply SMOTE to the training set\n",
    "from imblearn.over_sampling import SMOTE\n",
    "\n",
    "smote = SMOTE()\n",
    "smote_X_train, smote_y_train = smote.fit_resample(X_train, y_train)\n",
    "\n",
    "# Check if SMOTE were properly applied\n",
    "print(smote_y_train.value_counts())"
   ]
  },
  {
   "cell_type": "code",
   "execution_count": null,
   "metadata": {},
   "outputs": [],
   "source": []
  },
  {
   "cell_type": "markdown",
   "metadata": {},
   "source": [
    "SMOTE successfully made the dataset balanced"
   ]
  },
  {
   "cell_type": "markdown",
   "metadata": {},
   "source": [
    "## 4.1. Logisgic Regression with SMOTE"
   ]
  },
  {
   "cell_type": "code",
   "execution_count": 60,
   "metadata": {},
   "outputs": [
    {
     "name": "stdout",
     "output_type": "stream",
     "text": [
      "Logistic Regression: SMOTE\n",
      " - Accuracy :  0.385\n",
      " - Precision:  0.242\n",
      " - Recall   :  0.764\n",
      " - F1 score :  0.367\n",
      " - AUC score:  0.484\n",
      "Confusion Matrix\n",
      "[[172 467]\n",
      " [ 46 149]]\n"
     ]
    }
   ],
   "source": [
    "# Initiate the model\n",
    "smote_lm = LogisticRegression()\n",
    "\n",
    "# Fit the model\n",
    "smote_lm_model = smote_lm.fit(smote_X_train, smote_y_train.ravel())\n",
    "\n",
    "# Make Predictions\n",
    "smote_lm_pred=smote_lm_model.predict(X_test)\n",
    "\n",
    "# Calculate Accuracy, Precision, Recall, and F1 score\n",
    "smote_lm_accuracy = accuracy_score(y_test, smote_lm_pred)\n",
    "smote_lm_precision = precision_score(y_test, smote_lm_pred)\n",
    "smote_lm_recall = recall_score(y_test, smote_lm_pred)\n",
    "smote_lm_f1 = 2 * (smote_lm_precision * smote_lm_recall) / (smote_lm_precision + smote_lm_recall)\n",
    "\n",
    "# Calculate AUC score\n",
    "smote_lm_probs = smote_lm.predict_proba(X_test)\n",
    "smote_lm_probs = smote_lm_probs[:,1]\n",
    "smote_lm_auc = roc_auc_score(y_test, smote_lm_probs)\n",
    "\n",
    "# Display the metrics\n",
    "print(\"Logistic Regression: SMOTE\")\n",
    "print(\" - Accuracy : \",'{:.3f}'.format(smote_lm_accuracy))\n",
    "print(\" - Precision: \",'{:.3f}'.format(smote_lm_precision))\n",
    "print(\" - Recall   : \",'{:.3f}'.format(smote_lm_recall))\n",
    "print(\" - F1 score : \",'{:.3f}'.format(smote_lm_f1))\n",
    "print(\" - AUC score: \",'{:.3f}'.format(smote_lm_auc))\n",
    "\n",
    "# Display the confusion matrix\n",
    "print(\"Confusion Matrix\")\n",
    "print(confusion_matrix(y_test,smote_lm_pred))"
   ]
  },
  {
   "cell_type": "markdown",
   "metadata": {},
   "source": [
    "## 4.2. KNN with SMOTE"
   ]
  },
  {
   "cell_type": "code",
   "execution_count": 61,
   "metadata": {},
   "outputs": [
    {
     "name": "stdout",
     "output_type": "stream",
     "text": [
      "KNN Classifier: SMOTE\n",
      " - Accuracy :  0.541\n",
      " - Precision:  0.253\n",
      " - Recall   :  0.492\n",
      " - F1 score :  0.334\n",
      " - AUC score:  0.522\n",
      "Confusion Matrix\n",
      "[[355 284]\n",
      " [ 99  96]]\n"
     ]
    }
   ],
   "source": [
    "# Initiate the model\n",
    "smote_knn = KNeighborsClassifier()\n",
    "\n",
    "# Fit the model\n",
    "smote_knn_model = smote_knn.fit(smote_X_train, smote_y_train.ravel())\n",
    "\n",
    "# Make Predictions\n",
    "smote_knn_pred=smote_knn_model.predict(X_test)\n",
    "\n",
    "# Calculate Accuracy, Precision, Recall, and F1 score\n",
    "smote_knn_accuracy = accuracy_score(y_test, smote_knn_pred)\n",
    "smote_knn_precision = precision_score(y_test, smote_knn_pred)\n",
    "smote_knn_recall = recall_score(y_test, smote_knn_pred)\n",
    "smote_knn_f1 = 2 * (smote_knn_precision * smote_knn_recall) / (smote_knn_precision + smote_knn_recall)\n",
    "\n",
    "# Calculate AUC score\n",
    "smote_knn_probs = smote_knn.predict_proba(X_test)\n",
    "smote_knn_probs = smote_knn_probs[:,1]\n",
    "smote_knn_auc = roc_auc_score(y_test, smote_knn_probs)\n",
    "\n",
    "# Display the metrics\n",
    "print(\"KNN Classifier: SMOTE\")\n",
    "print(\" - Accuracy : \",'{:.3f}'.format(smote_knn_accuracy))\n",
    "print(\" - Precision: \",'{:.3f}'.format(smote_knn_precision))\n",
    "print(\" - Recall   : \",'{:.3f}'.format(smote_knn_recall))\n",
    "print(\" - F1 score : \",'{:.3f}'.format(smote_knn_f1))\n",
    "print(\" - AUC score: \",'{:.3f}'.format(smote_knn_auc))\n",
    "\n",
    "# Display the confusion matrix\n",
    "print(\"Confusion Matrix\")\n",
    "print(confusion_matrix(y_test,smote_knn_pred))"
   ]
  },
  {
   "cell_type": "markdown",
   "metadata": {},
   "source": [
    "## 4.3. SVM with SMOTE"
   ]
  },
  {
   "cell_type": "code",
   "execution_count": 62,
   "metadata": {},
   "outputs": [
    {
     "name": "stdout",
     "output_type": "stream",
     "text": [
      "SVM Classifier: SMOTE\n",
      " - Accuracy :  0.234\n",
      " - Precision:  0.234\n",
      " - Recall   :  1.000\n",
      " - F1 score :  0.379\n",
      " - AUC score:  0.499\n",
      "Confusion Matrix\n",
      "[[  0 639]\n",
      " [  0 195]]\n"
     ]
    }
   ],
   "source": [
    "# Initiate the model\n",
    "smote_svc = SVC(kernel='rbf',probability=True)\n",
    "\n",
    "# Fit the model\n",
    "smote_svc_model = smote_svc.fit(smote_X_train, smote_y_train.ravel())\n",
    "\n",
    "# Make Predictions\n",
    "smote_svc_pred=smote_svc_model.predict(X_test)\n",
    "\n",
    "# Calculate Accuracy, Precision, Recall, and F1 score\n",
    "smote_svc_accuracy = accuracy_score(y_test, smote_svc_pred)\n",
    "smote_svc_precision = precision_score(y_test, smote_svc_pred)\n",
    "smote_svc_recall = recall_score(y_test, smote_svc_pred)\n",
    "smote_svc_f1 = 2 * (smote_svc_precision * smote_svc_recall) / (smote_svc_precision + smote_svc_recall)\n",
    "\n",
    "# Calculate AUC score\n",
    "smote_svc_probs = smote_svc.predict_proba(X_test)\n",
    "smote_svc_probs = smote_svc_probs[:,1]\n",
    "smote_svc_auc = roc_auc_score(y_test, smote_svc_probs)\n",
    "\n",
    "# Display the metrics\n",
    "print(\"SVM Classifier: SMOTE\")\n",
    "print(\" - Accuracy : \",'{:.3f}'.format(smote_svc_accuracy))\n",
    "print(\" - Precision: \",'{:.3f}'.format(smote_svc_precision))\n",
    "print(\" - Recall   : \",'{:.3f}'.format(smote_svc_recall))\n",
    "print(\" - F1 score : \",'{:.3f}'.format(smote_svc_f1))\n",
    "print(\" - AUC score: \",'{:.3f}'.format(smote_svc_auc))\n",
    "\n",
    "# Display the confusion matrix\n",
    "print(\"Confusion Matrix\")\n",
    "print(confusion_matrix(y_test,smote_svc_pred))"
   ]
  },
  {
   "cell_type": "markdown",
   "metadata": {},
   "source": [
    "## 4.4. Decision Tree Classifier with SMOTE"
   ]
  },
  {
   "cell_type": "code",
   "execution_count": 63,
   "metadata": {},
   "outputs": [
    {
     "name": "stdout",
     "output_type": "stream",
     "text": [
      "Decision Tree Classifier: SMOTE\n",
      " - Accuracy :  0.596\n",
      " - Precision:  0.250\n",
      " - Recall   :  0.364\n",
      " - F1 score :  0.296\n",
      " - AUC score:  0.515\n",
      "Confusion Matrix\n",
      "[[426 213]\n",
      " [124  71]]\n"
     ]
    }
   ],
   "source": [
    "# Initiate the model\n",
    "smote_tree = DecisionTreeClassifier()\n",
    "\n",
    "# Fit the model\n",
    "smote_tree_model = smote_tree.fit(smote_X_train, smote_y_train.ravel())\n",
    "\n",
    "# Make Predictions\n",
    "smote_tree_pred=smote_tree_model.predict(X_test)\n",
    "\n",
    "# Calculate Accuracy, Precision, Recall, and F1 score\n",
    "smote_tree_accuracy = accuracy_score(y_test, smote_tree_pred)\n",
    "smote_tree_precision = precision_score(y_test, smote_tree_pred)\n",
    "smote_tree_recall = recall_score(y_test, smote_tree_pred)\n",
    "smote_tree_f1 = 2 * (smote_tree_precision * smote_tree_recall) / (smote_tree_precision + smote_tree_recall)\n",
    "\n",
    "# Calculate AUC score\n",
    "smote_tree_probs = smote_tree.predict_proba(X_test)\n",
    "smote_tree_probs = smote_tree_probs[:,1]\n",
    "smote_tree_auc = roc_auc_score(y_test, smote_tree_probs)\n",
    "\n",
    "# Display the metrics\n",
    "print(\"Decision Tree Classifier: SMOTE\")\n",
    "print(\" - Accuracy : \",'{:.3f}'.format(smote_tree_accuracy))\n",
    "print(\" - Precision: \",'{:.3f}'.format(smote_tree_precision))\n",
    "print(\" - Recall   : \",'{:.3f}'.format(smote_tree_recall))\n",
    "print(\" - F1 score : \",'{:.3f}'.format(smote_tree_f1))\n",
    "print(\" - AUC score: \",'{:.3f}'.format(smote_tree_auc))\n",
    "\n",
    "# Display the confusion matrix\n",
    "print(\"Confusion Matrix\")\n",
    "print(confusion_matrix(y_test,smote_tree_pred))"
   ]
  },
  {
   "cell_type": "markdown",
   "metadata": {},
   "source": [
    "## 4.5. Random Forest Classifier with SMOTE"
   ]
  },
  {
   "cell_type": "code",
   "execution_count": 64,
   "metadata": {},
   "outputs": [
    {
     "name": "stdout",
     "output_type": "stream",
     "text": [
      "Random Forest Classifier: SMOTE\n",
      " - Accuracy :  0.622\n",
      " - Precision:  0.281\n",
      " - Recall   :  0.395\n",
      " - F1 score :  0.328\n",
      " - AUC score:  0.531\n",
      "Confusion Matrix\n",
      "[[442 197]\n",
      " [118  77]]\n"
     ]
    }
   ],
   "source": [
    "# Initiate the model\n",
    "smote_rfc = RandomForestClassifier()\n",
    "\n",
    "# Fit the model\n",
    "smote_rfc_model = smote_rfc.fit(smote_X_train, smote_y_train.ravel())\n",
    "\n",
    "# Make Predictions\n",
    "smote_rfc_pred = smote_rfc_model.predict(X_test)\n",
    "\n",
    "# Calculate Accuracy, Precision, Recall, and F1 score\n",
    "smote_rfc_accuracy = accuracy_score(y_test, smote_rfc_pred)\n",
    "smote_rfc_precision = precision_score(y_test, smote_rfc_pred)\n",
    "smote_rfc_recall = recall_score(y_test, smote_rfc_pred)\n",
    "smote_rfc_f1 = 2 * (smote_rfc_precision * smote_rfc_recall) / (smote_rfc_precision + smote_rfc_recall)\n",
    "\n",
    "# Calculate AUC score\n",
    "smote_rfc_probs = smote_rfc.predict_proba(X_test)\n",
    "smote_rfc_probs = smote_rfc_probs[:,1]\n",
    "smote_rfc_auc = roc_auc_score(y_test, smote_rfc_probs)\n",
    "\n",
    "# Display the metrics\n",
    "print(\"Random Forest Classifier: SMOTE\")\n",
    "print(\" - Accuracy : \",'{:.3f}'.format(smote_rfc_accuracy))\n",
    "print(\" - Precision: \",'{:.3f}'.format(smote_rfc_precision))\n",
    "print(\" - Recall   : \",'{:.3f}'.format(smote_rfc_recall))\n",
    "print(\" - F1 score : \",'{:.3f}'.format(smote_rfc_f1))\n",
    "print(\" - AUC score: \",'{:.3f}'.format(smote_rfc_auc))\n",
    "\n",
    "# Display the confusion matrix\n",
    "print(\"Confusion Matrix\")\n",
    "print(confusion_matrix(y_test,smote_rfc_pred))"
   ]
  },
  {
   "cell_type": "markdown",
   "metadata": {},
   "source": [
    "## 4.6. AdaBoost Classifier with SMOTE"
   ]
  },
  {
   "cell_type": "code",
   "execution_count": 65,
   "metadata": {},
   "outputs": [
    {
     "name": "stdout",
     "output_type": "stream",
     "text": [
      "AdaBoost Classifier: SMOTE\n",
      " - Accuracy :  0.550\n",
      " - Precision:  0.231\n",
      " - Recall   :  0.395\n",
      " - F1 score :  0.291\n",
      " - AUC score:  0.466\n",
      "Confusion Matrix\n",
      "[[382 257]\n",
      " [118  77]]\n"
     ]
    }
   ],
   "source": [
    "# Initiate the model\n",
    "smote_adb = AdaBoostClassifier()\n",
    "\n",
    "# Fit the model\n",
    "smote_adb_model = smote_adb.fit(smote_X_train, smote_y_train.ravel())\n",
    "\n",
    "# Make Predictions\n",
    "smote_adb_pred = smote_adb_model.predict(X_test)\n",
    "\n",
    "# Calculate Accuracy, Precision, Recall, and F1 score\n",
    "smote_adb_accuracy = accuracy_score(y_test, smote_adb_pred)\n",
    "smote_adb_precision = precision_score(y_test, smote_adb_pred)\n",
    "smote_adb_recall = recall_score(y_test, smote_adb_pred)\n",
    "smote_adb_f1 = 2 * (smote_adb_precision * smote_adb_recall) / (smote_adb_precision + smote_adb_recall)\n",
    "\n",
    "# Calculate AUC score\n",
    "smote_adb_probs = smote_adb.predict_proba(X_test)\n",
    "smote_adb_probs = smote_adb_probs[:,1]\n",
    "smote_adb_auc = roc_auc_score(y_test, smote_adb_probs)\n",
    "\n",
    "# Display the metrics\n",
    "print(\"AdaBoost Classifier: SMOTE\")\n",
    "print(\" - Accuracy : \",'{:.3f}'.format(smote_adb_accuracy))\n",
    "print(\" - Precision: \",'{:.3f}'.format(smote_adb_precision))\n",
    "print(\" - Recall   : \",'{:.3f}'.format(smote_adb_recall))\n",
    "print(\" - F1 score : \",'{:.3f}'.format(smote_adb_f1))\n",
    "print(\" - AUC score: \",'{:.3f}'.format(smote_adb_auc))\n",
    "\n",
    "# Display the confusion matrix\n",
    "print(\"Confusion Matrix\")\n",
    "print(confusion_matrix(y_test,smote_adb_pred))"
   ]
  },
  {
   "cell_type": "markdown",
   "metadata": {},
   "source": [
    "## 4.7. XGBoost Classifier with SMOTE"
   ]
  },
  {
   "cell_type": "code",
   "execution_count": 66,
   "metadata": {},
   "outputs": [
    {
     "name": "stdout",
     "output_type": "stream",
     "text": [
      "XGBClassifier: SMOTE\n",
      " - Accuracy :  0.558\n",
      " - Precision:  0.250\n",
      " - Recall   :  0.446\n",
      " - F1 score :  0.320\n",
      " - AUC score:  0.538\n",
      "Confusion Matrix\n",
      "[[378 261]\n",
      " [108  87]]\n"
     ]
    }
   ],
   "source": [
    "# Initiate the model\n",
    "smote_xgb = XGBClassifier()\n",
    "\n",
    "# Fit the model\n",
    "smote_xgb_model = smote_xgb.fit(smote_X_train, smote_y_train.ravel())\n",
    "\n",
    "# Make Predictions\n",
    "smote_xgb_pred = smote_xgb_model.predict(X_test)\n",
    "\n",
    "# Calculate Accuracy, Precision, Recall, and F1 score\n",
    "smote_xgb_accuracy = accuracy_score(y_test, smote_xgb_pred)\n",
    "smote_xgb_precision = precision_score(y_test, smote_xgb_pred)\n",
    "smote_xgb_recall = recall_score(y_test, smote_xgb_pred)\n",
    "smote_xgb_f1 = 2 * (smote_xgb_precision * smote_xgb_recall) / (smote_xgb_precision + smote_xgb_recall)\n",
    "\n",
    "# Calculate AUC score\n",
    "smote_xgb_probs = smote_xgb.predict_proba(X_test)\n",
    "smote_xgb_probs = smote_xgb_probs[:,1]\n",
    "smote_xgb_auc = roc_auc_score(y_test, smote_xgb_probs)\n",
    "\n",
    "# Display the metrics\n",
    "print(\"XGBClassifier: SMOTE\")\n",
    "print(\" - Accuracy : \",'{:.3f}'.format(smote_xgb_accuracy))\n",
    "print(\" - Precision: \",'{:.3f}'.format(smote_xgb_precision))\n",
    "print(\" - Recall   : \",'{:.3f}'.format(smote_xgb_recall))\n",
    "print(\" - F1 score : \",'{:.3f}'.format(smote_xgb_f1))\n",
    "print(\" - AUC score: \",'{:.3f}'.format(smote_xgb_auc))\n",
    "\n",
    "# Display the confusion matrix\n",
    "print(\"Confusion Matrix\")\n",
    "print(confusion_matrix(y_test,smote_xgb_pred))"
   ]
  },
  {
   "cell_type": "markdown",
   "metadata": {},
   "source": [
    "# 5. Prediction with SMOTE-ENN"
   ]
  },
  {
   "cell_type": "markdown",
   "metadata": {},
   "source": [
    "## Perform SMOTE-ENN"
   ]
  },
  {
   "cell_type": "code",
   "execution_count": 68,
   "metadata": {},
   "outputs": [
    {
     "data": {
      "text/plain": [
       "bin\n",
       "1    2548\n",
       "0    1248\n",
       "Name: count, dtype: int64"
      ]
     },
     "execution_count": 68,
     "metadata": {},
     "output_type": "execute_result"
    }
   ],
   "source": [
    "# Combined SMOTE and Edited Nearest Neighbors sampling for imbalanced classification\n",
    "from imblearn.combine import SMOTEENN\n",
    "from imblearn.under_sampling import EditedNearestNeighbours\n",
    "\n",
    "# define sampling\n",
    "smoteenn_X_train, smoteenn_y_train=SMOTEENN(\n",
    "    enn=EditedNearestNeighbours(sampling_strategy='majority')).fit_resample(X_train,y_train)\n",
    "\n",
    "# Check if SMOTE-ENN were properly applied\n",
    "smoteenn_y_train.value_counts()"
   ]
  },
  {
   "cell_type": "markdown",
   "metadata": {},
   "source": [
    "## 5.1. Logistic Regression with SMOTE-ENN"
   ]
  },
  {
   "cell_type": "code",
   "execution_count": 69,
   "metadata": {},
   "outputs": [
    {
     "name": "stdout",
     "output_type": "stream",
     "text": [
      "Logistic Regression: SMOTE-ENN\n",
      " - Accuracy :  0.277\n",
      " - Precision:  0.244\n",
      " - Recall   :  1.000\n",
      " - F1 score :  0.393\n",
      " - AUC score:  0.489\n",
      "Confusion Matrix\n",
      "[[ 36 603]\n",
      " [  0 195]]\n"
     ]
    }
   ],
   "source": [
    "# Initiate the model\n",
    "smoteenn_lm = LogisticRegression()\n",
    "\n",
    "# Fit the model\n",
    "smoteenn_lm_model = smoteenn_lm.fit(smoteenn_X_train, smoteenn_y_train.ravel())\n",
    "\n",
    "# Make Predictions\n",
    "smoteenn_lm_pred=smoteenn_lm_model.predict(X_test)\n",
    "\n",
    "# Calculate Accuracy, Precision, Recall, and F1 score\n",
    "smoteenn_lm_accuracy = accuracy_score(y_test, smoteenn_lm_pred)\n",
    "smoteenn_lm_precision = precision_score(y_test, smoteenn_lm_pred)\n",
    "smoteenn_lm_recall = recall_score(y_test, smoteenn_lm_pred)\n",
    "smoteenn_lm_f1 = 2 * (smoteenn_lm_precision * smoteenn_lm_recall) / (smoteenn_lm_precision + smoteenn_lm_recall)\n",
    "\n",
    "# Calculate AUC score\n",
    "smoteenn_lm_probs = smoteenn_lm.predict_proba(X_test)\n",
    "smoteenn_lm_probs = smoteenn_lm_probs[:,1]\n",
    "smoteenn_lm_auc = roc_auc_score(y_test, smoteenn_lm_probs)\n",
    "\n",
    "# Display the metrics\n",
    "print(\"Logistic Regression: SMOTE-ENN\")\n",
    "print(\" - Accuracy : \",'{:.3f}'.format(smoteenn_lm_accuracy))\n",
    "print(\" - Precision: \",'{:.3f}'.format(smoteenn_lm_precision))\n",
    "print(\" - Recall   : \",'{:.3f}'.format(smoteenn_lm_recall))\n",
    "print(\" - F1 score : \",'{:.3f}'.format(smoteenn_lm_f1))\n",
    "print(\" - AUC score: \",'{:.3f}'.format(smoteenn_lm_auc))\n",
    "\n",
    "# Display the confusion matrix\n",
    "print(\"Confusion Matrix\")\n",
    "print(confusion_matrix(y_test,smoteenn_lm_pred))"
   ]
  },
  {
   "cell_type": "markdown",
   "metadata": {},
   "source": [
    "## 5.2. KNN with SMOTE-ENN"
   ]
  },
  {
   "cell_type": "code",
   "execution_count": 70,
   "metadata": {},
   "outputs": [
    {
     "name": "stdout",
     "output_type": "stream",
     "text": [
      "KNN Classifier: SMOTE-ENN\n",
      " - Accuracy :  0.402\n",
      " - Precision:  0.238\n",
      " - Recall   :  0.708\n",
      " - F1 score :  0.356\n",
      " - AUC score:  0.529\n",
      "Confusion Matrix\n",
      "[[197 442]\n",
      " [ 57 138]]\n"
     ]
    }
   ],
   "source": [
    "# Initiate the model\n",
    "smoteenn_knn = KNeighborsClassifier()\n",
    "\n",
    "# Fit the model\n",
    "smoteenn_knn_model = smoteenn_knn.fit(smoteenn_X_train, smoteenn_y_train.ravel())\n",
    "\n",
    "# Make Predictions\n",
    "smoteenn_knn_pred=smoteenn_knn_model.predict(X_test)\n",
    "\n",
    "# Calculate Accuracy, Precision, Recall, and F1 score\n",
    "smoteenn_knn_accuracy = accuracy_score(y_test, smoteenn_knn_pred)\n",
    "smoteenn_knn_precision = precision_score(y_test, smoteenn_knn_pred)\n",
    "smoteenn_knn_recall = recall_score(y_test, smoteenn_knn_pred)\n",
    "smoteenn_knn_f1 = 2 * (smoteenn_knn_precision * smoteenn_knn_recall) / (smoteenn_knn_precision + smoteenn_knn_recall)\n",
    "\n",
    "# Calculate AUC score\n",
    "smoteenn_knn_probs = smoteenn_knn.predict_proba(X_test)\n",
    "smoteenn_knn_probs = smoteenn_knn_probs[:,1]\n",
    "smoteenn_knn_auc = roc_auc_score(y_test, smoteenn_knn_probs)\n",
    "\n",
    "# Display the metrics\n",
    "print(\"KNN Classifier: SMOTE-ENN\")\n",
    "print(\" - Accuracy : \",'{:.3f}'.format(smoteenn_knn_accuracy))\n",
    "print(\" - Precision: \",'{:.3f}'.format(smoteenn_knn_precision))\n",
    "print(\" - Recall   : \",'{:.3f}'.format(smoteenn_knn_recall))\n",
    "print(\" - F1 score : \",'{:.3f}'.format(smoteenn_knn_f1))\n",
    "print(\" - AUC score: \",'{:.3f}'.format(smoteenn_knn_auc))\n",
    "\n",
    "# Display the confusion matrix\n",
    "print(\"Confusion Matrix\")\n",
    "print(confusion_matrix(y_test,smoteenn_knn_pred))"
   ]
  },
  {
   "cell_type": "markdown",
   "metadata": {},
   "source": [
    "## 5.3. SVM Classifier with SMOTE-ENN"
   ]
  },
  {
   "cell_type": "code",
   "execution_count": 71,
   "metadata": {},
   "outputs": [
    {
     "name": "stdout",
     "output_type": "stream",
     "text": [
      "SVM Classifier: SMOTE-ENN\n",
      " - Accuracy :  0.234\n",
      " - Precision:  0.234\n",
      " - Recall   :  1.000\n",
      " - F1 score :  0.379\n",
      " - AUC score:  0.528\n",
      "Confusion Matrix\n",
      "[[  0 639]\n",
      " [  0 195]]\n"
     ]
    }
   ],
   "source": [
    "# Initiate the model\n",
    "smoteenn_svc = SVC(kernel='rbf',probability=True)\n",
    "\n",
    "# Fit the model\n",
    "smoteenn_svc_model = smoteenn_svc.fit(smoteenn_X_train, smoteenn_y_train.ravel())\n",
    "\n",
    "# Make Predictions\n",
    "smoteenn_svc_pred=smoteenn_svc_model.predict(X_test)\n",
    "\n",
    "# Calculate Accuracy, Precision, Recall, and F1 score\n",
    "smoteenn_svc_accuracy = accuracy_score(y_test, smoteenn_svc_pred)\n",
    "smoteenn_svc_precision = precision_score(y_test, smoteenn_svc_pred)\n",
    "smoteenn_svc_recall = recall_score(y_test, smoteenn_svc_pred)\n",
    "smoteenn_svc_f1 = 2 * (smoteenn_svc_precision * smoteenn_svc_recall) / (smoteenn_svc_precision + smoteenn_svc_recall)\n",
    "\n",
    "# Calculate AUC score\n",
    "smoteenn_svc_probs = smoteenn_svc.predict_proba(X_test)\n",
    "smoteenn_svc_probs = smoteenn_svc_probs[:,1]\n",
    "smoteenn_svc_auc = roc_auc_score(y_test, smoteenn_svc_probs)\n",
    "\n",
    "# Display the metrics\n",
    "print(\"SVM Classifier: SMOTE-ENN\")\n",
    "print(\" - Accuracy : \",'{:.3f}'.format(smoteenn_svc_accuracy))\n",
    "print(\" - Precision: \",'{:.3f}'.format(smoteenn_svc_precision))\n",
    "print(\" - Recall   : \",'{:.3f}'.format(smoteenn_svc_recall))\n",
    "print(\" - F1 score : \",'{:.3f}'.format(smoteenn_svc_f1))\n",
    "print(\" - AUC score: \",'{:.3f}'.format(smoteenn_svc_auc))\n",
    "\n",
    "# Display the confusion matrix\n",
    "print(\"Confusion Matrix\")\n",
    "print(confusion_matrix(y_test,smoteenn_svc_pred))"
   ]
  },
  {
   "cell_type": "markdown",
   "metadata": {},
   "source": [
    "## 5.4. Decision Tree Classifier with SMOTE-ENN"
   ]
  },
  {
   "cell_type": "code",
   "execution_count": 72,
   "metadata": {},
   "outputs": [
    {
     "name": "stdout",
     "output_type": "stream",
     "text": [
      "Decision Tree Classifier: SMOTE-ENN\n",
      " - Accuracy :  0.502\n",
      " - Precision:  0.256\n",
      " - Recall   :  0.590\n",
      " - F1 score :  0.357\n",
      " - AUC score:  0.533\n",
      "Confusion Matrix\n",
      "[[304 335]\n",
      " [ 80 115]]\n"
     ]
    }
   ],
   "source": [
    "# Initiate the model\n",
    "smoteenn_tree = DecisionTreeClassifier()\n",
    "\n",
    "# Fit the model\n",
    "smoteenn_tree_model = smoteenn_tree.fit(smoteenn_X_train, smoteenn_y_train.ravel())\n",
    "\n",
    "# Make Predictions\n",
    "smoteenn_tree_pred=smoteenn_tree_model.predict(X_test)\n",
    "\n",
    "# Calculate Accuracy, Precision, Recall, and F1 score\n",
    "smoteenn_tree_accuracy = accuracy_score(y_test, smoteenn_tree_pred)\n",
    "smoteenn_tree_precision = precision_score(y_test, smoteenn_tree_pred)\n",
    "smoteenn_tree_recall = recall_score(y_test, smoteenn_tree_pred)\n",
    "smoteenn_tree_f1 = 2 * (smoteenn_tree_precision * smoteenn_tree_recall) / (smoteenn_tree_precision + smoteenn_tree_recall)\n",
    "\n",
    "# Calculate AUC score\n",
    "smoteenn_tree_probs = smoteenn_tree.predict_proba(X_test)\n",
    "smoteenn_tree_probs = smoteenn_tree_probs[:,1]\n",
    "smoteenn_tree_auc = roc_auc_score(y_test, smoteenn_tree_probs)\n",
    "\n",
    "# Display the metrics\n",
    "print(\"Decision Tree Classifier: SMOTE-ENN\")\n",
    "print(\" - Accuracy : \",'{:.3f}'.format(smoteenn_tree_accuracy))\n",
    "print(\" - Precision: \",'{:.3f}'.format(smoteenn_tree_precision))\n",
    "print(\" - Recall   : \",'{:.3f}'.format(smoteenn_tree_recall))\n",
    "print(\" - F1 score : \",'{:.3f}'.format(smoteenn_tree_f1))\n",
    "print(\" - AUC score: \",'{:.3f}'.format(smoteenn_tree_auc))\n",
    "\n",
    "# Display the confusion matrix\n",
    "print(\"Confusion Matrix\")\n",
    "print(confusion_matrix(y_test,smoteenn_tree_pred))"
   ]
  },
  {
   "cell_type": "markdown",
   "metadata": {},
   "source": [
    "## 5.5. Random Forest Classifier with SMOTE-ENN"
   ]
  },
  {
   "cell_type": "code",
   "execution_count": 73,
   "metadata": {},
   "outputs": [
    {
     "name": "stdout",
     "output_type": "stream",
     "text": [
      "Random Forest Classifier: SMOTE-ENN\n",
      " - Accuracy :  0.472\n",
      " - Precision:  0.252\n",
      " - Recall   :  0.636\n",
      " - F1 score :  0.360\n",
      " - AUC score:  0.518\n",
      "Confusion Matrix\n",
      "[[270 369]\n",
      " [ 71 124]]\n"
     ]
    }
   ],
   "source": [
    "# Initiate the model\n",
    "smoteenn_rfc = RandomForestClassifier()\n",
    "\n",
    "# Fit the model\n",
    "smoteenn_rfc_model = smoteenn_rfc.fit(smoteenn_X_train, smoteenn_y_train.ravel())\n",
    "\n",
    "# Make Predictions\n",
    "smoteenn_rfc_pred = smoteenn_rfc_model.predict(X_test)\n",
    "\n",
    "# Calculate Accuracy, Precision, Recall, and F1 score\n",
    "smoteenn_rfc_accuracy = accuracy_score(y_test, smoteenn_rfc_pred)\n",
    "smoteenn_rfc_precision = precision_score(y_test, smoteenn_rfc_pred)\n",
    "smoteenn_rfc_recall = recall_score(y_test, smoteenn_rfc_pred)\n",
    "smoteenn_rfc_f1 = 2 * (smoteenn_rfc_precision * smoteenn_rfc_recall) / (smoteenn_rfc_precision + smoteenn_rfc_recall)\n",
    "\n",
    "# Calculate AUC score\n",
    "smoteenn_rfc_probs = smoteenn_rfc.predict_proba(X_test)\n",
    "smoteenn_rfc_probs = smoteenn_rfc_probs[:,1]\n",
    "smoteenn_rfc_auc = roc_auc_score(y_test, smoteenn_rfc_probs)\n",
    "\n",
    "# Display the metrics\n",
    "print(\"Random Forest Classifier: SMOTE-ENN\")\n",
    "print(\" - Accuracy : \",'{:.3f}'.format(smoteenn_rfc_accuracy))\n",
    "print(\" - Precision: \",'{:.3f}'.format(smoteenn_rfc_precision))\n",
    "print(\" - Recall   : \",'{:.3f}'.format(smoteenn_rfc_recall))\n",
    "print(\" - F1 score : \",'{:.3f}'.format(smoteenn_rfc_f1))\n",
    "print(\" - AUC score: \",'{:.3f}'.format(smoteenn_rfc_auc))\n",
    "\n",
    "# Display the confusion matrix\n",
    "print(\"Confusion Matrix\")\n",
    "print(confusion_matrix(y_test,smoteenn_rfc_pred))"
   ]
  },
  {
   "cell_type": "markdown",
   "metadata": {},
   "source": [
    "## 5.6. AdaBoost with SMOTE-ENN"
   ]
  },
  {
   "cell_type": "code",
   "execution_count": 74,
   "metadata": {},
   "outputs": [
    {
     "name": "stdout",
     "output_type": "stream",
     "text": [
      "AdaBoost Classifier: SMOTE-ENN\n",
      " - Accuracy :  0.271\n",
      " - Precision:  0.219\n",
      " - Recall   :  0.826\n",
      " - F1 score :  0.346\n",
      " - AUC score:  0.464\n",
      "Confusion Matrix\n",
      "[[ 65 574]\n",
      " [ 34 161]]\n"
     ]
    }
   ],
   "source": [
    "# Initiate the model\n",
    "smoteenn_adb = AdaBoostClassifier()\n",
    "\n",
    "# Fit the model\n",
    "smoteenn_adb_model = smoteenn_adb.fit(smoteenn_X_train, smoteenn_y_train.ravel())\n",
    "\n",
    "# Make Predictions\n",
    "smoteenn_adb_pred = smoteenn_adb_model.predict(X_test)\n",
    "\n",
    "# Calculate Accuracy, Precision, Recall, and F1 score\n",
    "smoteenn_adb_accuracy = accuracy_score(y_test, smoteenn_adb_pred)\n",
    "smoteenn_adb_precision = precision_score(y_test, smoteenn_adb_pred)\n",
    "smoteenn_adb_recall = recall_score(y_test, smoteenn_adb_pred)\n",
    "smoteenn_adb_f1 = 2 * (smoteenn_adb_precision * smoteenn_adb_recall) / (smoteenn_adb_precision + smoteenn_adb_recall)\n",
    "\n",
    "# Calculate AUC score\n",
    "smoteenn_adb_probs = smoteenn_adb.predict_proba(X_test)\n",
    "smoteenn_adb_probs = smoteenn_adb_probs[:,1]\n",
    "smoteenn_adb_auc = roc_auc_score(y_test, smoteenn_adb_probs)\n",
    "\n",
    "# Display the metrics\n",
    "print(\"AdaBoost Classifier: SMOTE-ENN\")\n",
    "print(\" - Accuracy : \",'{:.3f}'.format(smoteenn_adb_accuracy))\n",
    "print(\" - Precision: \",'{:.3f}'.format(smoteenn_adb_precision))\n",
    "print(\" - Recall   : \",'{:.3f}'.format(smoteenn_adb_recall))\n",
    "print(\" - F1 score : \",'{:.3f}'.format(smoteenn_adb_f1))\n",
    "print(\" - AUC score: \",'{:.3f}'.format(smoteenn_adb_auc))\n",
    "\n",
    "# Display the confusion matrix\n",
    "print(\"Confusion Matrix\")\n",
    "print(confusion_matrix(y_test,smoteenn_adb_pred))"
   ]
  },
  {
   "cell_type": "markdown",
   "metadata": {},
   "source": [
    "## 5.7. XGBoost Classifier with SMOTE-ENN"
   ]
  },
  {
   "cell_type": "code",
   "execution_count": 75,
   "metadata": {},
   "outputs": [
    {
     "name": "stdout",
     "output_type": "stream",
     "text": [
      "XGB Classifier: SMOTEENN\n",
      " - Accuracy:  0.4136690647482014\n",
      " - Precision:  0.23272727272727273\n",
      " - Recall:  0.6564102564102564\n",
      " - F1 score:  0.3436241610738255\n",
      " - AUC score:  0.5130291721841017\n",
      "[[217 422]\n",
      " [ 67 128]]\n"
     ]
    }
   ],
   "source": [
    "# Initiate the model\n",
    "smoteenn_xgb = XGBClassifier()\n",
    "# Fit the model\n",
    "smoteenn_xgb_model =smoteenn_xgb.fit(smoteenn_X_train, smoteenn_y_train.ravel())\n",
    "# Make Predictions\n",
    "smoteenn_xgb_pred = smoteenn_xgb_model.predict(X_test)\n",
    "\n",
    "# Calculate Accuracy, Precision, Recall, and F1 score\n",
    "smoteenn_xgb_accuracy = accuracy_score(y_test, smoteenn_xgb_pred)\n",
    "smoteenn_xgb_precision = precision_score(y_test, smoteenn_xgb_pred)\n",
    "smoteenn_xgb_recall = recall_score(y_test, smoteenn_xgb_pred)\n",
    "smoteenn_xgb_f1 = 2 * (smoteenn_xgb_precision * smoteenn_xgb_recall) / (smoteenn_xgb_precision + smoteenn_xgb_recall)\n",
    "\n",
    "# Calculate AUC score\n",
    "smoteenn_xgb_probs = smoteenn_xgb.predict_proba(X_test)\n",
    "smoteenn_xgb_probs = smoteenn_xgb_probs[:,1]\n",
    "smoteenn_xgb_auc = roc_auc_score(y_test, smoteenn_xgb_probs)\n",
    "\n",
    "# Display the metrics\n",
    "print(\"XGB Classifier: SMOTEENN\")\n",
    "print(\" - Accuracy: \", smoteenn_xgb_accuracy)\n",
    "print(\" - Precision: \", smoteenn_xgb_precision)\n",
    "print(\" - Recall: \", smoteenn_xgb_recall)\n",
    "print(\" - F1 score: \", smoteenn_xgb_f1)\n",
    "print(\" - AUC score: \", smoteenn_xgb_auc)\n",
    "\n",
    "# Display the confusion matrix\n",
    "print(confusion_matrix(y_test,smoteenn_xgb_pred))"
   ]
  },
  {
   "cell_type": "markdown",
   "metadata": {},
   "source": [
    "# 6. Summary of Results"
   ]
  },
  {
   "cell_type": "code",
   "execution_count": 76,
   "metadata": {},
   "outputs": [],
   "source": [
    "# Create Results Table: Accuracy \n",
    "pd.options.display.float_format = '{:.3f}'.format\n",
    "\n",
    "acc_list = [\n",
    "    [base_lm_accuracy, base_knn_accuracy, base_svc_accuracy, base_tree_accuracy, base_rfc_accuracy,\n",
    "     base_adb_accuracy, base_xgb_accuracy],\n",
    "    [smote_lm_accuracy, smote_knn_accuracy, smote_svc_accuracy, smote_tree_accuracy, smote_rfc_accuracy,\n",
    "     smote_adb_accuracy, smote_xgb_accuracy],\n",
    "    [smoteenn_lm_accuracy, smoteenn_knn_accuracy, smoteenn_svc_accuracy, smoteenn_tree_accuracy, \n",
    "     smoteenn_rfc_accuracy,smoteenn_adb_accuracy, smoteenn_xgb_accuracy]]\n",
    "\n",
    "acc_df = pd.DataFrame(acc_list)\n",
    "acc_df.index = ['BASE','SMOTE','SMOTE-ENN']\n",
    "acc_df.columns = ['Logistic Regression','KNN','SVM','Decision Tree','Random Forest','AdaBoost','XGBoost']   \n",
    "\n",
    "# Create Results Table: Recall\n",
    "rec_list = [\n",
    "    [base_lm_recall, base_knn_recall, base_svc_recall, base_tree_recall, base_rfc_recall,\n",
    "     base_adb_recall, base_xgb_recall],\n",
    "    [smote_lm_recall, smote_knn_recall, smote_svc_recall, smote_tree_recall, smote_rfc_recall,\n",
    "     smote_adb_recall, smote_xgb_recall],\n",
    "    [smoteenn_lm_recall, smoteenn_knn_recall, smoteenn_svc_recall, smoteenn_tree_recall, \n",
    "     smoteenn_rfc_recall,smoteenn_adb_recall, smoteenn_xgb_recall]]\n",
    "\n",
    "rec_df = pd.DataFrame(rec_list)\n",
    "rec_df.index = ['BASE','SMOTE','SMOTE-ENN']\n",
    "rec_df.columns = ['Logistic Regression','KNN','SVM','Decision Tree','Random Forest','AdaBoost','XGBoost']\n",
    "\n",
    "# Create Results Table: F1\n",
    "f1_list = [\n",
    "    [base_lm_f1, base_knn_f1, base_svc_f1, base_tree_f1, base_rfc_f1,base_adb_f1, base_xgb_f1],\n",
    "    [smote_lm_f1, smote_knn_f1, smote_svc_f1, smote_tree_f1, smote_rfc_f1,smote_adb_f1, smote_xgb_f1],\n",
    "    [smoteenn_lm_f1, smoteenn_knn_f1, smoteenn_svc_f1, smoteenn_tree_f1,smoteenn_rfc_f1,smoteenn_adb_f1, \n",
    "     smoteenn_xgb_f1]]\n",
    "\n",
    "f1_df = pd.DataFrame(f1_list)\n",
    "f1_df.index = ['BASE','SMOTE','SMOTE-ENN']\n",
    "f1_df.columns = ['Logistic Regression','KNN','SVM','Decision Tree','Random Forest','AdaBoost','XGBoost']\n",
    "\n",
    "# Create Results Table: AUC\n",
    "auc_list = [\n",
    "    [base_lm_auc, base_knn_auc, base_svc_auc, base_tree_auc, base_rfc_auc,base_adb_auc, base_xgb_auc],\n",
    "    [smote_lm_auc, smote_knn_auc, smote_svc_auc, smote_tree_auc, smote_rfc_auc,smote_adb_auc, smote_xgb_auc],\n",
    "    [smoteenn_lm_auc, smoteenn_knn_auc, smoteenn_svc_auc, smoteenn_tree_auc,smoteenn_rfc_auc,smoteenn_adb_auc, \n",
    "     smoteenn_xgb_auc]]\n",
    "\n",
    "auc_df = pd.DataFrame(auc_list)\n",
    "auc_df.index = ['BASE','SMOTE','SMOTE-ENN']\n",
    "auc_df.columns = ['Logistic Regression','KNN','SVM','Decision Tree','Random Forest','AdaBoost','XGBoost']"
   ]
  },
  {
   "cell_type": "code",
   "execution_count": 77,
   "metadata": {},
   "outputs": [
    {
     "name": "stdout",
     "output_type": "stream",
     "text": [
      "Accuracy\n"
     ]
    },
    {
     "data": {
      "text/html": [
       "<div>\n",
       "<style scoped>\n",
       "    .dataframe tbody tr th:only-of-type {\n",
       "        vertical-align: middle;\n",
       "    }\n",
       "\n",
       "    .dataframe tbody tr th {\n",
       "        vertical-align: top;\n",
       "    }\n",
       "\n",
       "    .dataframe thead th {\n",
       "        text-align: right;\n",
       "    }\n",
       "</style>\n",
       "<table border=\"1\" class=\"dataframe\">\n",
       "  <thead>\n",
       "    <tr style=\"text-align: right;\">\n",
       "      <th></th>\n",
       "      <th>Logistic Regression</th>\n",
       "      <th>KNN</th>\n",
       "      <th>SVM</th>\n",
       "      <th>Decision Tree</th>\n",
       "      <th>Random Forest</th>\n",
       "      <th>AdaBoost</th>\n",
       "      <th>XGBoost</th>\n",
       "    </tr>\n",
       "  </thead>\n",
       "  <tbody>\n",
       "    <tr>\n",
       "      <th>BASE</th>\n",
       "      <td>0.766</td>\n",
       "      <td>0.670</td>\n",
       "      <td>0.766</td>\n",
       "      <td>0.620</td>\n",
       "      <td>0.670</td>\n",
       "      <td>0.748</td>\n",
       "      <td>0.705</td>\n",
       "    </tr>\n",
       "    <tr>\n",
       "      <th>SMOTE</th>\n",
       "      <td>0.385</td>\n",
       "      <td>0.541</td>\n",
       "      <td>0.234</td>\n",
       "      <td>0.596</td>\n",
       "      <td>0.622</td>\n",
       "      <td>0.550</td>\n",
       "      <td>0.558</td>\n",
       "    </tr>\n",
       "    <tr>\n",
       "      <th>SMOTE-ENN</th>\n",
       "      <td>0.277</td>\n",
       "      <td>0.402</td>\n",
       "      <td>0.234</td>\n",
       "      <td>0.502</td>\n",
       "      <td>0.472</td>\n",
       "      <td>0.271</td>\n",
       "      <td>0.414</td>\n",
       "    </tr>\n",
       "  </tbody>\n",
       "</table>\n",
       "</div>"
      ],
      "text/plain": [
       "           Logistic Regression   KNN   SVM  Decision Tree  Random Forest  \\\n",
       "BASE                     0.766 0.670 0.766          0.620          0.670   \n",
       "SMOTE                    0.385 0.541 0.234          0.596          0.622   \n",
       "SMOTE-ENN                0.277 0.402 0.234          0.502          0.472   \n",
       "\n",
       "           AdaBoost  XGBoost  \n",
       "BASE          0.748    0.705  \n",
       "SMOTE         0.550    0.558  \n",
       "SMOTE-ENN     0.271    0.414  "
      ]
     },
     "execution_count": 77,
     "metadata": {},
     "output_type": "execute_result"
    }
   ],
   "source": [
    "print(\"Accuracy\")\n",
    "acc_df"
   ]
  },
  {
   "cell_type": "code",
   "execution_count": 78,
   "metadata": {},
   "outputs": [
    {
     "name": "stdout",
     "output_type": "stream",
     "text": [
      "Recall\n"
     ]
    },
    {
     "data": {
      "text/html": [
       "<div>\n",
       "<style scoped>\n",
       "    .dataframe tbody tr th:only-of-type {\n",
       "        vertical-align: middle;\n",
       "    }\n",
       "\n",
       "    .dataframe tbody tr th {\n",
       "        vertical-align: top;\n",
       "    }\n",
       "\n",
       "    .dataframe thead th {\n",
       "        text-align: right;\n",
       "    }\n",
       "</style>\n",
       "<table border=\"1\" class=\"dataframe\">\n",
       "  <thead>\n",
       "    <tr style=\"text-align: right;\">\n",
       "      <th></th>\n",
       "      <th>Logistic Regression</th>\n",
       "      <th>KNN</th>\n",
       "      <th>SVM</th>\n",
       "      <th>Decision Tree</th>\n",
       "      <th>Random Forest</th>\n",
       "      <th>AdaBoost</th>\n",
       "      <th>XGBoost</th>\n",
       "    </tr>\n",
       "  </thead>\n",
       "  <tbody>\n",
       "    <tr>\n",
       "      <th>BASE</th>\n",
       "      <td>0.000</td>\n",
       "      <td>0.246</td>\n",
       "      <td>0.000</td>\n",
       "      <td>0.313</td>\n",
       "      <td>0.241</td>\n",
       "      <td>0.021</td>\n",
       "      <td>0.231</td>\n",
       "    </tr>\n",
       "    <tr>\n",
       "      <th>SMOTE</th>\n",
       "      <td>0.764</td>\n",
       "      <td>0.492</td>\n",
       "      <td>1.000</td>\n",
       "      <td>0.364</td>\n",
       "      <td>0.395</td>\n",
       "      <td>0.395</td>\n",
       "      <td>0.446</td>\n",
       "    </tr>\n",
       "    <tr>\n",
       "      <th>SMOTE-ENN</th>\n",
       "      <td>1.000</td>\n",
       "      <td>0.708</td>\n",
       "      <td>1.000</td>\n",
       "      <td>0.590</td>\n",
       "      <td>0.636</td>\n",
       "      <td>0.826</td>\n",
       "      <td>0.656</td>\n",
       "    </tr>\n",
       "  </tbody>\n",
       "</table>\n",
       "</div>"
      ],
      "text/plain": [
       "           Logistic Regression   KNN   SVM  Decision Tree  Random Forest  \\\n",
       "BASE                     0.000 0.246 0.000          0.313          0.241   \n",
       "SMOTE                    0.764 0.492 1.000          0.364          0.395   \n",
       "SMOTE-ENN                1.000 0.708 1.000          0.590          0.636   \n",
       "\n",
       "           AdaBoost  XGBoost  \n",
       "BASE          0.021    0.231  \n",
       "SMOTE         0.395    0.446  \n",
       "SMOTE-ENN     0.826    0.656  "
      ]
     },
     "execution_count": 78,
     "metadata": {},
     "output_type": "execute_result"
    }
   ],
   "source": [
    "print(\"Recall\")\n",
    "rec_df"
   ]
  },
  {
   "cell_type": "code",
   "execution_count": 79,
   "metadata": {},
   "outputs": [
    {
     "name": "stdout",
     "output_type": "stream",
     "text": [
      "F1 score\n"
     ]
    },
    {
     "data": {
      "text/html": [
       "<div>\n",
       "<style scoped>\n",
       "    .dataframe tbody tr th:only-of-type {\n",
       "        vertical-align: middle;\n",
       "    }\n",
       "\n",
       "    .dataframe tbody tr th {\n",
       "        vertical-align: top;\n",
       "    }\n",
       "\n",
       "    .dataframe thead th {\n",
       "        text-align: right;\n",
       "    }\n",
       "</style>\n",
       "<table border=\"1\" class=\"dataframe\">\n",
       "  <thead>\n",
       "    <tr style=\"text-align: right;\">\n",
       "      <th></th>\n",
       "      <th>Logistic Regression</th>\n",
       "      <th>KNN</th>\n",
       "      <th>SVM</th>\n",
       "      <th>Decision Tree</th>\n",
       "      <th>Random Forest</th>\n",
       "      <th>AdaBoost</th>\n",
       "      <th>XGBoost</th>\n",
       "    </tr>\n",
       "  </thead>\n",
       "  <tbody>\n",
       "    <tr>\n",
       "      <th>BASE</th>\n",
       "      <td>NaN</td>\n",
       "      <td>0.259</td>\n",
       "      <td>NaN</td>\n",
       "      <td>0.278</td>\n",
       "      <td>0.255</td>\n",
       "      <td>0.037</td>\n",
       "      <td>0.268</td>\n",
       "    </tr>\n",
       "    <tr>\n",
       "      <th>SMOTE</th>\n",
       "      <td>0.367</td>\n",
       "      <td>0.334</td>\n",
       "      <td>0.379</td>\n",
       "      <td>0.296</td>\n",
       "      <td>0.328</td>\n",
       "      <td>0.291</td>\n",
       "      <td>0.320</td>\n",
       "    </tr>\n",
       "    <tr>\n",
       "      <th>SMOTE-ENN</th>\n",
       "      <td>0.393</td>\n",
       "      <td>0.356</td>\n",
       "      <td>0.379</td>\n",
       "      <td>0.357</td>\n",
       "      <td>0.360</td>\n",
       "      <td>0.346</td>\n",
       "      <td>0.344</td>\n",
       "    </tr>\n",
       "  </tbody>\n",
       "</table>\n",
       "</div>"
      ],
      "text/plain": [
       "           Logistic Regression   KNN   SVM  Decision Tree  Random Forest  \\\n",
       "BASE                       NaN 0.259   NaN          0.278          0.255   \n",
       "SMOTE                    0.367 0.334 0.379          0.296          0.328   \n",
       "SMOTE-ENN                0.393 0.356 0.379          0.357          0.360   \n",
       "\n",
       "           AdaBoost  XGBoost  \n",
       "BASE          0.037    0.268  \n",
       "SMOTE         0.291    0.320  \n",
       "SMOTE-ENN     0.346    0.344  "
      ]
     },
     "execution_count": 79,
     "metadata": {},
     "output_type": "execute_result"
    }
   ],
   "source": [
    "print(\"F1 score\")\n",
    "f1_df"
   ]
  },
  {
   "cell_type": "code",
   "execution_count": 80,
   "metadata": {},
   "outputs": [
    {
     "name": "stdout",
     "output_type": "stream",
     "text": [
      "AUC\n"
     ]
    },
    {
     "data": {
      "text/html": [
       "<div>\n",
       "<style scoped>\n",
       "    .dataframe tbody tr th:only-of-type {\n",
       "        vertical-align: middle;\n",
       "    }\n",
       "\n",
       "    .dataframe tbody tr th {\n",
       "        vertical-align: top;\n",
       "    }\n",
       "\n",
       "    .dataframe thead th {\n",
       "        text-align: right;\n",
       "    }\n",
       "</style>\n",
       "<table border=\"1\" class=\"dataframe\">\n",
       "  <thead>\n",
       "    <tr style=\"text-align: right;\">\n",
       "      <th></th>\n",
       "      <th>Logistic Regression</th>\n",
       "      <th>KNN</th>\n",
       "      <th>SVM</th>\n",
       "      <th>Decision Tree</th>\n",
       "      <th>Random Forest</th>\n",
       "      <th>AdaBoost</th>\n",
       "      <th>XGBoost</th>\n",
       "    </tr>\n",
       "  </thead>\n",
       "  <tbody>\n",
       "    <tr>\n",
       "      <th>BASE</th>\n",
       "      <td>0.470</td>\n",
       "      <td>0.511</td>\n",
       "      <td>0.503</td>\n",
       "      <td>0.513</td>\n",
       "      <td>0.525</td>\n",
       "      <td>0.472</td>\n",
       "      <td>0.535</td>\n",
       "    </tr>\n",
       "    <tr>\n",
       "      <th>SMOTE</th>\n",
       "      <td>0.484</td>\n",
       "      <td>0.522</td>\n",
       "      <td>0.499</td>\n",
       "      <td>0.515</td>\n",
       "      <td>0.531</td>\n",
       "      <td>0.466</td>\n",
       "      <td>0.538</td>\n",
       "    </tr>\n",
       "    <tr>\n",
       "      <th>SMOTE-ENN</th>\n",
       "      <td>0.489</td>\n",
       "      <td>0.529</td>\n",
       "      <td>0.528</td>\n",
       "      <td>0.533</td>\n",
       "      <td>0.518</td>\n",
       "      <td>0.464</td>\n",
       "      <td>0.513</td>\n",
       "    </tr>\n",
       "  </tbody>\n",
       "</table>\n",
       "</div>"
      ],
      "text/plain": [
       "           Logistic Regression   KNN   SVM  Decision Tree  Random Forest  \\\n",
       "BASE                     0.470 0.511 0.503          0.513          0.525   \n",
       "SMOTE                    0.484 0.522 0.499          0.515          0.531   \n",
       "SMOTE-ENN                0.489 0.529 0.528          0.533          0.518   \n",
       "\n",
       "           AdaBoost  XGBoost  \n",
       "BASE          0.472    0.535  \n",
       "SMOTE         0.466    0.538  \n",
       "SMOTE-ENN     0.464    0.513  "
      ]
     },
     "execution_count": 80,
     "metadata": {},
     "output_type": "execute_result"
    }
   ],
   "source": [
    "print(\"AUC\")\n",
    "auc_df"
   ]
  },
  {
   "cell_type": "markdown",
   "metadata": {},
   "source": [
    "- Baseline model achieved the highest performance.\n",
    "- Among them, XGBoost achieve the highest performance. AUC score = 0.994"
   ]
  },
  {
   "cell_type": "markdown",
   "metadata": {},
   "source": [
    "## ROC Curve"
   ]
  },
  {
   "cell_type": "code",
   "execution_count": 81,
   "metadata": {},
   "outputs": [],
   "source": [
    "# Import the library for ROC curve.\n",
    "from sklearn.metrics import roc_curve, roc_auc_score\n",
    "\n",
    "ns_probs = [0 for _ in range(len(y_test))]\n",
    "\n",
    "prob_lm = base_lm_model.predict_proba(X_test)\n",
    "prob_lm = prob_lm[:,1]\n",
    "\n",
    "prob_knn = base_knn_model.predict_proba(X_test)\n",
    "prob_knn = prob_knn[:,1]\n",
    "\n",
    "prob_svc = base_svc_model.predict_proba(X_test)\n",
    "prob_svc = prob_svc[:,1]\n",
    "\n",
    "prob_tree = base_tree_model.predict_proba(X_test)\n",
    "prob_tree = prob_tree[:,1]\n",
    "\n",
    "prob_rfc = base_rfc_model.predict_proba(X_test)\n",
    "prob_rfc = prob_rfc[:,1]\n",
    "\n",
    "prob_adb = base_adb_model.predict_proba(X_test)\n",
    "prob_adb = prob_adb[:,1]\n",
    "\n",
    "prob_xgb = base_xgb_model.predict_proba(X_test)\n",
    "prob_xgb = prob_xgb[:,1]"
   ]
  },
  {
   "cell_type": "code",
   "execution_count": 82,
   "metadata": {},
   "outputs": [
    {
     "data": {
      "image/png": "[encoded data removed]",
      "text/plain": [
       "<Figure size 800x600 with 1 Axes>"
      ]
     },
     "metadata": {
      "image/png": {
       "height": 530,
       "width": 695
      }
     },
     "output_type": "display_data"
    }
   ],
   "source": [
    "ns_fpr, ns_tpr, _ = roc_curve(y_test, ns_probs)\n",
    "lm_fpr, lm_tpr, _ = roc_curve(y_test, prob_lm)\n",
    "knn_fpr, knn_tpr, _ = roc_curve(y_test, prob_knn)\n",
    "svc_fpr, svc_tpr, _ = roc_curve(y_test, prob_svc)\n",
    "tree_fpr, tree_tpr, _ = roc_curve(y_test, prob_tree)\n",
    "rfc_fpr, rfc_tpr, _ = roc_curve(y_test, prob_rfc)\n",
    "adb_fpr, adb_tpr, _ = roc_curve(y_test, prob_adb)\n",
    "xgb_fpr, xgb_tpr, _ = roc_curve(y_test, prob_xgb)\n",
    "\n",
    "plt.figure(figsize=(8, 6))\n",
    "plt.plot(ns_fpr, ns_tpr, linestyle='--', label='Based on Majority')\n",
    "plt.plot(lm_fpr, lm_tpr, marker='.', label='Logistic')\n",
    "plt.plot(knn_fpr, knn_tpr, marker='.', label='KNN')\n",
    "plt.plot(svc_fpr, svc_tpr, marker='.', label='SVM')\n",
    "plt.plot(tree_fpr, tree_tpr, marker='.', label='Decision Tree')\n",
    "plt.plot(rfc_fpr, rfc_tpr, marker='.', label='Random Forest')\n",
    "plt.plot(adb_fpr, adb_tpr, marker='.', label='AdaBoost')\n",
    "plt.plot(xgb_fpr, xgb_tpr, marker='.', label='XGBoost')\n",
    "\n",
    "plt.xlabel('False Positive Rate')\n",
    "plt.ylabel('True Positive Rate')\n",
    "\n",
    "plt.legend()\n",
    "plt.show()"
   ]
  }
 ],
 "metadata": {
  "kaggle": {
   "accelerator": "none",
   "dataSources": [
    {
     "datasetId": 982921,
     "sourceId": 1660340,
     "sourceType": "datasetVersion"
    }
   ],
   "dockerImageVersionId": 30060,
   "isGpuEnabled": false,
   "isInternetEnabled": true,
   "language": "python",
   "sourceType": "notebook"
  },
  "kernelspec": {
   "display_name": "Python 3 (ipykernel)",
   "language": "python",
   "name": "python3"
  },
  "language_info": {
   "codemirror_mode": {
    "name": "ipython",
    "version": 3
   },
   "file_extension": ".py",
   "mimetype": "text/x-python",
   "name": "python",
   "nbconvert_exporter": "python",
   "pygments_lexer": "ipython3",
   "version": "3.11.7"
  }
 },
 "nbformat": 4,
 "nbformat_minor": 4
}
